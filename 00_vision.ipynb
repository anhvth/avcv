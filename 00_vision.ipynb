{
 "cells": [
  {
   "cell_type": "code",
   "execution_count": null,
   "metadata": {},
   "outputs": [],
   "source": [
    "# default_exp core"
   ]
  },
  {
   "cell_type": "markdown",
   "metadata": {},
   "source": [
    "# module name here\n",
    "\n",
    "> API details."
   ]
  },
  {
   "cell_type": "code",
   "execution_count": null,
   "metadata": {},
   "outputs": [],
   "source": [
    "#hide\n",
    "from nbdev.showdoc import *"
   ]
  },
  {
   "cell_type": "code",
   "execution_count": null,
   "metadata": {},
   "outputs": [],
   "source": [
    "#export\n",
    "import matplotlib.pyplot as plt\n",
    "import numpy as np\n",
    "def plot_images(images,\n",
    "                labels=None,\n",
    "                cls_true=None,\n",
    "                cls_pred=None,\n",
    "                space=(0.3, 0.3),\n",
    "                mxn=None,\n",
    "                size=(5, 5),\n",
    "                dpi=300,\n",
    "                max_w=1500,\n",
    "                out_file=None,\n",
    "                cmap='binary'):\n",
    "    \n",
    "    if mxn is None:\n",
    "        # n = max(max_w // max([img.shape[1] for img in images]), 1)\n",
    "        n = int(np.sqrt(len(images)))\n",
    "        n = min(n, len(images))\n",
    "        m = len(images) // n\n",
    "        m = max(1, m)\n",
    "        mxn = (m, n)\n",
    "        print(mxn)\n",
    "\n",
    "    fig, axes = plt.subplots(*mxn)\n",
    "    fig.subplots_adjust(hspace=space[0], wspace=space[1])\n",
    "    fig.figsize = size\n",
    "    fig.dpi = dpi\n",
    "    for i, ax in enumerate(axes.flat):\n",
    "        if i < len(images):\n",
    "            ax.imshow(images[i], cmap=cmap)\n",
    "            if labels is not None:\n",
    "                xlabel = labels[i]\n",
    "            elif cls_pred is None and cls_true is not None:\n",
    "                xlabel = \"True: {0}\".format(cls_true[i])\n",
    "            elif cls_pred is None and cls_true is not None:\n",
    "                xlabel = \"True: {0}, Pred: {1}\".format(cls_true[i],\n",
    "                                                       cls_pred[i])\n",
    "            else:\n",
    "                xlabel = None\n",
    "            if xlabel is not None:\n",
    "                ax.set_xlabel(xlabel)\n",
    "            ax.set_xticks([])\n",
    "            ax.set_yticks([])\n",
    "    if out_file is None:\n",
    "        plt.show()\n",
    "    else:\n",
    "        plt.savefig(out_file)\n",
    "        print('Save fig:', out_file)\n",
    "        plt.close()\n"
   ]
  },
  {
   "cell_type": "code",
   "execution_count": null,
   "metadata": {},
   "outputs": [],
   "source": []
  }
 ],
 "metadata": {
  "kernelspec": {
   "display_name": "Python 3",
   "language": "python",
   "name": "python3"
  }
 },
 "nbformat": 4,
 "nbformat_minor": 2
}
