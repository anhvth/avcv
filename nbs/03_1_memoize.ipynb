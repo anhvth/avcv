{
 "cells": [
  {
   "cell_type": "code",
   "execution_count": 1,
   "metadata": {},
   "outputs": [],
   "source": [
    "# default_exp utils"
   ]
  },
  {
   "cell_type": "code",
   "execution_count": 2,
   "metadata": {},
   "outputs": [],
   "source": [
    "#hide\n",
    "from nbdev.showdoc import *"
   ]
  },
  {
   "cell_type": "code",
   "execution_count": 15,
   "metadata": {},
   "outputs": [],
   "source": [
    "# export\n",
    "from loguru import logger\n",
    "from functools import wraps\n",
    "\n",
    "ICACHE = dict()\n",
    "\n",
    "\n",
    "def imemoize(func):\n",
    "    \"\"\"\n",
    "        Memoize a function into memory, the function recaculate only change when its belonging arguments change\n",
    "    \"\"\"\n",
    "    @wraps(func)\n",
    "    def _f(*args, **kwargs):\n",
    "        import mmcv\n",
    "        timer = mmcv.Timer()\n",
    "        import inspect\n",
    "        from avcv.utils import identify\n",
    "        ident_name = identify((inspect.getsource(func), args, kwargs))\n",
    "        if not ident_name in ICACHE:\n",
    "            # logger.warning('{} not in CACHE: \"{}\"'.format(ident_name, ICACHE))\n",
    "            result = func(*args, **kwargs)\n",
    "            logger.info('Imemoize {}, init:  runtime: {:0.2f} s'.format(\n",
    "                func.__name__, timer.since_last_check()))\n",
    "            ICACHE[ident_name] = result\n",
    "        else:\n",
    "            result = ICACHE[ident_name]\n",
    "            logger.info('Imemoize {} reuse, runtime: {:0.2f} s'.format(\n",
    "                func.__name__, timer.since_last_check()))\n",
    "\n",
    "        return result\n",
    "    return _f\n"
   ]
  },
  {
   "cell_type": "code",
   "execution_count": 16,
   "metadata": {},
   "outputs": [
    {
     "name": "stderr",
     "output_type": "stream",
     "text": [
      "2021-12-25 11:55:07.389 | INFO     | __main__:_f:21 - Imemoize example_function, init:  runtime: 5.01 s\n",
      "2021-12-25 11:55:07.392 | INFO     | __main__:_f:26 - Imemoize example_function reuse, runtime: 0.00 s\n"
     ]
    }
   ],
   "source": [
    "\n",
    "import time\n",
    "@imemoize\n",
    "def example_function(x):\n",
    "    x = x+1\n",
    "    time.sleep(5)\n",
    "    return x\n",
    "\n",
    "x = example_function(0)\n",
    "x = example_function(0)"
   ]
  },
  {
   "cell_type": "code",
   "execution_count": 12,
   "metadata": {},
   "outputs": [
    {
     "name": "stderr",
     "output_type": "stream",
     "text": [
      "2021-12-25 11:53:07.011 | INFO     | __main__:_f:16 - Imemoize example_function, init:  runtime: 5.01 s\n"
     ]
    }
   ],
   "source": []
  },
  {
   "cell_type": "code",
   "execution_count": null,
   "metadata": {},
   "outputs": [],
   "source": []
  }
 ],
 "metadata": {
  "kernelspec": {
   "display_name": "Python 3 (ipykernel)",
   "language": "python",
   "name": "python3"
  },
  "language_info": {
   "codemirror_mode": {
    "name": "ipython",
    "version": 3
   },
   "file_extension": ".py",
   "mimetype": "text/x-python",
   "name": "python",
   "nbconvert_exporter": "python",
   "pygments_lexer": "ipython3",
   "version": "3.8.11"
  }
 },
 "nbformat": 4,
 "nbformat_minor": 4
}
