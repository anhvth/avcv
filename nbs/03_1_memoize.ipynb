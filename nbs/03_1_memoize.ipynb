{
 "cells": [
  {
   "cell_type": "code",
   "execution_count": 1,
   "metadata": {},
   "outputs": [],
   "source": [
    "# default_exp utils"
   ]
  },
  {
   "cell_type": "code",
   "execution_count": 1,
   "metadata": {},
   "outputs": [],
   "source": [
    "#hide\n",
    "from nbdev.showdoc import *"
   ]
  },
  {
   "cell_type": "code",
   "execution_count": 1,
   "metadata": {},
   "outputs": [],
   "source": [
    "# export\n",
    "from loguru import logger\n",
    "from functools import wraps\n",
    "import mmcv\n",
    "import inspect\n",
    "ICACHE = dict()\n",
    "#export\n",
    "import xxhash\n",
    "import pickle\n",
    "\n",
    "def identify(x):\n",
    "    '''Return an hex digest of the input'''\n",
    "    return xxhash.xxh64(pickle.dumps(x), seed=0).hexdigest()\n",
    "\n",
    "\n",
    "def memoize(func):\n",
    "    import os\n",
    "    import pickle\n",
    "    from functools import wraps\n",
    "    import xxhash\n",
    "    '''Cache result of function call on disk\n",
    "    Support multiple positional and keyword arguments'''\n",
    "    @wraps(func)\n",
    "    def memoized_func(*args, **kwargs):\n",
    "        cache_dir = '.cache'\n",
    "        try:\n",
    "            import inspect\n",
    "            func_id = identify((inspect.getsource(func), args, kwargs))\n",
    "            cache_path = os.path.join(cache_dir, func.__name__+'_'+func_id)\n",
    "\n",
    "            if (os.path.exists(cache_path) and\n",
    "                    not func.__name__ in os.environ and\n",
    "                    not 'BUST_CACHE' in os.environ):\n",
    "                result = pickle.load(open(cache_path, 'rb'))\n",
    "            else:\n",
    "                result = func(*args, **kwargs)\n",
    "                os.makedirs(cache_dir, exist_ok=True)\n",
    "                pickle.dump(result, open(cache_path, 'wb'))\n",
    "            return result\n",
    "        except (KeyError, AttributeError, TypeError, Exception) as e:\n",
    "            logger.warning(f'Exception: {e}, use default function call')\n",
    "            return func(*args, **kwargs)\n",
    "    return memoized_func\n",
    "\n",
    "\n",
    "def imemoize(func):\n",
    "    \"\"\"\n",
    "        Memoize a function into memory, the function recaculate only \n",
    "        change when its belonging arguments change\n",
    "    \"\"\"\n",
    "    @wraps(func)\n",
    "    def _f(*args, **kwargs):\n",
    "\n",
    "        timer = mmcv.Timer()\n",
    "\n",
    "        ident_name = identify((inspect.getsource(func), args, kwargs))\n",
    "        # if not ident_name in ICACHE:\n",
    "        try:\n",
    "            result = ICACHE[ident_name]\n",
    "        except:\n",
    "            result = func(*args, **kwargs)\n",
    "            # logger.info('Imemoize {}, firsttime:  runtime: {:0.2f} s'.format(\n",
    "            #     func.__name__, timer.since_last_check()))\n",
    "            ICACHE[ident_name] = result\n",
    "        # else:\n",
    "            \n",
    "            # logger.info('Imemoize {} cached, runtime: {:0.2f} s'.format(\n",
    "            #     func.__name__, timer.since_last_check()))\n",
    "\n",
    "        return result\n",
    "    return _f"
   ]
  },
  {
   "cell_type": "code",
   "execution_count": 3,
   "metadata": {},
   "outputs": [
    {
     "name": "stderr",
     "output_type": "stream",
     "text": [
      "2022-06-04 03:56:20.773 | INFO     | __main__:_f:58 - Imemoize example_function, firsttime:  runtime: 5.01 s\n",
      "2022-06-04 03:56:20.775 | INFO     | __main__:_f:63 - Imemoize example_function cached, runtime: 0.00 s\n"
     ]
    }
   ],
   "source": [
    "import time\n",
    "@imemoize\n",
    "def example_function(x):\n",
    "    x = x+1\n",
    "    time.sleep(5)\n",
    "    return x\n",
    "\n",
    "x = example_function(0)\n",
    "x = example_function(0)"
   ]
  },
  {
   "cell_type": "code",
   "execution_count": 4,
   "metadata": {},
   "outputs": [],
   "source": [
    "example_function  = memoize(example_function)"
   ]
  },
  {
   "cell_type": "markdown",
   "metadata": {},
   "source": [
    "# BUILD"
   ]
  },
  {
   "cell_type": "code",
   "execution_count": 3,
   "metadata": {},
   "outputs": [
    {
     "name": "stdout",
     "output_type": "stream",
     "text": [
      "Converted 00_visualize.ipynb.\n",
      "Converted 01_process.ipynb.\n",
      "Converted 03_1_memoize.ipynb.\n",
      "Converted 03_utils.ipynb.\n",
      "Converted 04_debug.ipynb.\n",
      "Converted 05_coco_dataset.ipynb.\n",
      "Converted 06_cli.ipynb.\n",
      "Converted all.ipynb.\n",
      "Converted index.ipynb.\n"
     ]
    }
   ],
   "source": [
    "!nbdev_build_lib"
   ]
  },
  {
   "cell_type": "code",
   "execution_count": null,
   "metadata": {},
   "outputs": [],
   "source": []
  }
 ],
 "metadata": {
  "kernelspec": {
   "display_name": "Python 3 (ipykernel)",
   "language": "python",
   "name": "python3"
  },
  "language_info": {
   "codemirror_mode": {
    "name": "ipython",
    "version": 3
   },
   "file_extension": ".py",
   "mimetype": "text/x-python",
   "name": "python",
   "nbconvert_exporter": "python",
   "pygments_lexer": "ipython3",
   "version": "3.8.11"
  }
 },
 "nbformat": 4,
 "nbformat_minor": 4
}
