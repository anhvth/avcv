{
 "cells": [
  {
   "cell_type": "code",
   "execution_count": null,
   "metadata": {},
   "outputs": [],
   "source": [
    "#| default_exp debug"
   ]
  },
  {
   "cell_type": "markdown",
   "metadata": {},
   "source": [
    "# DEBUG\n",
    "> Detail API"
   ]
  },
  {
   "cell_type": "code",
   "execution_count": null,
   "metadata": {},
   "outputs": [
    {
     "name": "stdout",
     "output_type": "stream",
     "text": [
      "import mmcv\n",
      "import pandas\n",
      "import matplotlib\n"
     ]
    },
    {
     "name": "stderr",
     "output_type": "stream",
     "text": [
      "<string>:1: FutureWarning: pandas.Float64Index is deprecated and will be removed from pandas in a future version. Use pandas.Index with the appropriate dtype instead.\n",
      "<string>:1: FutureWarning: pandas.Int64Index is deprecated and will be removed from pandas in a future version. Use pandas.Index with the appropriate dtype instead.\n",
      "<string>:1: FutureWarning: pandas.UInt64Index is deprecated and will be removed from pandas in a future version. Use pandas.Index with the appropriate dtype instead.\n"
     ]
    }
   ],
   "source": [
    "#|export\n",
    "from avcv._imports import *"
   ]
  },
  {
   "cell_type": "code",
   "execution_count": null,
   "metadata": {},
   "outputs": [],
   "source": [
    "# #| export\n",
    "# @call_parse\n",
    "# def make_mini_coco(json_path: Param(),\n",
    "#                    image_prefix: Param(),\n",
    "#                    out_dir: Param(),\n",
    "#                    num_samples: Param(\"Num of sample\",type=int) = 1000):\n",
    "#     \"\"\"\n",
    "#         Helper function for creating a mini-dataset ensembles it's father\n",
    "#     \"\"\"\n",
    "#     new_img_prefix = osp.join(out_dir, \"images\")\n",
    "\n",
    "#     out_json = os.path.join(out_dir, \"annotations\", \"mini_json.json\")\n",
    "#     if not osp.exists(out_json):\n",
    "#         logger.info(f\"Making mini dataset out_dir-> {out_dir}, num images:{num_samples}\")\n",
    "#         os.makedirs(os.path.join(out_dir, \"images\"), exist_ok=True)\n",
    "#         os.makedirs(os.path.join(out_dir, \"annotations\"), exist_ok=True)\n",
    "#         coco = COCO(json_path)\n",
    "#         # imgs = coco.imgs\n",
    "#         img_ids = list(coco.imgs.keys())\n",
    "#         np.random.seed(0)\n",
    "#         selected_img_ids = np.random.choice(img_ids, num_samples, replace=False)\n",
    "#         imgs = coco.loadImgs(selected_img_ids)\n",
    "#         selected_ann_ids = coco.getAnnIds(selected_img_ids)\n",
    "#         anns = coco.loadAnns(selected_ann_ids)\n",
    "#         for i, ann in enumerate(anns):\n",
    "#             ann['iscrowd'] = False\n",
    "#             anns[i] = ann\n",
    "#         out_dict = dict(\n",
    "#             images=imgs,\n",
    "#             annotations=anns,\n",
    "#             categories=coco.dataset['categories'],\n",
    "\n",
    "#         )\n",
    "#         for img in imgs:\n",
    "#             path = osp.join(image_prefix, img['file_name'])\n",
    "#             new_path = osp.join(new_img_prefix, img['file_name'])\n",
    "#             mmcv.mkdir_or_exist(osp.dirname(new_path))\n",
    "#             shutil.copy(path, new_path)\n",
    "\n",
    "#         mmcv.dump(out_dict, out_json)\n",
    "#     logger.info(f\"{out_json}, {new_img_prefix}\")\n",
    "#     return out_json, new_img_prefix"
   ]
  },
  {
   "cell_type": "code",
   "execution_count": null,
   "metadata": {},
   "outputs": [],
   "source": [
    "#| export\n",
    "@call_parse\n",
    "def dpython(cmd: Param(type=str)):\n",
    "    for _ in range(3):\n",
    "        cmd = cmd.replace('  ', '')\n",
    "    i_split = cmd.index(\".py\")+4\n",
    "    file = cmd[:i_split].strip().split(' ')[1]\n",
    "\n",
    "    args = cmd[i_split:].split(' ')\n",
    "    cfg_name = os.environ.get(\"DNAME\", \"Latest-Generated\")\n",
    "    cfg = {\n",
    "        \"name\": f\"Python: {cfg_name}\",\n",
    "        \"type\": \"python\",\n",
    "        \"request\": \"launch\",\n",
    "        \"program\": f\"{file}\",\n",
    "        \"console\": \"integratedTerminal\",\n",
    "        \"args\": args,\n",
    "    }\n",
    "    # pp(cfg)\n",
    "    mmcv.mkdir_or_exist(\".vscode\")\n",
    "    try:\n",
    "        lauch = mmcv.load(\".vscode/launch.json\")\n",
    "    except Exception as e:\n",
    "        lauch = {\n",
    "            \"version\": \"0.2.0\",\n",
    "            \"configurations\": [\n",
    "\n",
    "            ]\n",
    "        }\n",
    "        logger.warning(e)\n",
    "        \n",
    "    replace = False\n",
    "    for i, _cfg in enumerate(lauch['configurations']):\n",
    "        if _cfg[\"name\"] == cfg[\"name\"]:\n",
    "            lauch[\"configurations\"][i] = cfg\n",
    "            replace = True\n",
    "    if not replace:\n",
    "        lauch[\"configurations\"] += [cfg]\n",
    "        mmcv.dump(lauch, '.vscode/launch.json')"
   ]
  },
  {
   "cell_type": "code",
   "execution_count": null,
   "metadata": {},
   "outputs": [],
   "source": []
  }
 ],
 "metadata": {
  "kernelspec": {
   "display_name": "Python 3 (ipykernel)",
   "language": "python",
   "name": "python3"
  }
 },
 "nbformat": 4,
 "nbformat_minor": 4
}
