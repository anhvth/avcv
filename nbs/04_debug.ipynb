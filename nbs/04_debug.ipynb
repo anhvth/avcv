{
 "cells": [
  {
   "cell_type": "code",
   "execution_count": 1,
   "source": [
    "#default_exp debug"
   ],
   "outputs": [],
   "metadata": {}
  },
  {
   "cell_type": "markdown",
   "source": [
    "# DEBUG\n",
    "> Detail API"
   ],
   "metadata": {}
  },
  {
   "cell_type": "code",
   "execution_count": 9,
   "source": [
    "#export\n",
    "import os\n",
    "import os.path as osp\n",
    "import matplotlib.pyplot as plt\n",
    "import numpy as np\n",
    "import mmcv\n",
    "from fastcore.script import *\n",
    "import shutil\n",
    "\n",
    "\n",
    "@call_parse\n",
    "def make_mini_coco(json_path: Param(),\n",
    "                   image_prefix: Param(),\n",
    "                   out_dir: Param(),\n",
    "                   num_samples: Param(\"Num of sample\",type=int) = 1000):\n",
    "    \"\"\"\n",
    "        Helper function for creating a mini-dataset ensembles it's father\n",
    "    \"\"\"\n",
    "    from pycocotools.coco import COCO\n",
    "    new_img_prefix = osp.join(out_dir, \"images\")\n",
    "\n",
    "    out_json = os.path.join(out_dir, \"annotations\", \"mini_json.json\")\n",
    "    if not osp.exists(out_json):\n",
    "        print(\"Making mini dataset\", out_dir, \"num images:\", num_samples)\n",
    "        os.makedirs(os.path.join(out_dir, \"images\"), exist_ok=True)\n",
    "        os.makedirs(os.path.join(out_dir, \"annotations\"), exist_ok=True)\n",
    "        coco = COCO(json_path)\n",
    "        # imgs = coco.imgs\n",
    "        img_ids = list(coco.imgs.keys())\n",
    "        np.random.seed(0)\n",
    "        selected_img_ids = np.random.choice(img_ids, num_samples, replace=False)\n",
    "        imgs = coco.loadImgs(selected_img_ids)\n",
    "        selected_ann_ids = coco.getAnnIds(selected_img_ids)\n",
    "        anns = coco.loadAnns(selected_ann_ids)\n",
    "        for i, ann in enumerate(anns):\n",
    "            ann['iscrowd'] = False\n",
    "            anns[i] = ann\n",
    "        out_dict = dict(\n",
    "            images=imgs,\n",
    "            annotations=anns,\n",
    "            categories=coco.dataset['categories'],\n",
    "\n",
    "        )\n",
    "        for img in imgs:\n",
    "            path = osp.join(image_prefix, img['file_name'])\n",
    "            new_path = osp.join(new_img_prefix, img['file_name'])\n",
    "            shutil.copy(path, new_path)\n",
    "\n",
    "        mmcv.dump(out_dict, out_json)\n",
    "    print(out_json, new_img_prefix)\n",
    "    return out_json, new_img_prefix\n"
   ],
   "outputs": [],
   "metadata": {}
  },
  {
   "cell_type": "code",
   "execution_count": 17,
   "source": [
    "import mmcv"
   ],
   "outputs": [],
   "metadata": {}
  },
  {
   "cell_type": "code",
   "execution_count": 19,
   "source": [
    "#export\n",
    "@call_parse\n",
    "def dpython(cmd: Param(type=str)):\n",
    "    for _ in range(3):\n",
    "        cmd = cmd.replace('  ', '')\n",
    "    i_split = cmd.index(\".py\")+4\n",
    "    file = cmd[:i_split].strip().split(' ')[1]\n",
    "\n",
    "    args = cmd[i_split:].split(' ')\n",
    "    cfg_name = os.environ.get(\"DNAME\", \"Latest-Generated\")\n",
    "    cfg = {\n",
    "        \"name\": f\"Python: {cfg_name}\",\n",
    "        \"type\": \"python\",\n",
    "        \"request\": \"launch\",\n",
    "        \"program\": f\"{file}\",\n",
    "        \"console\": \"integratedTerminal\",\n",
    "        \"args\": args,\n",
    "    }\n",
    "    # pp(cfg)\n",
    "    mmcv.mkdir_or_exist(\".vscode\")\n",
    "    try:\n",
    "        lauch = read_json(\".vscode/launch.json\")\n",
    "    except:\n",
    "        lauch = {\n",
    "            \"version\": \"0.2.0\",\n",
    "            \"configurations\": [\n",
    "\n",
    "            ]\n",
    "        }\n",
    "    replace = False\n",
    "    for i, _cfg in enumerate(lauch['configurations']):\n",
    "        if _cfg[\"name\"] == cfg[\"name\"]:\n",
    "            lauch[\"configurations\"][i] = cfg\n",
    "            replace = True\n",
    "    if not replace:\n",
    "        lauch[\"configurations\"] += [cfg]\n",
    "#     with open(, 'w') as f:\n",
    "#         mmcv.dump(lauch, f, indent=4)\n",
    "        mmcv.dump(lauch, '.vscode/launch.json')\n",
    "    \n"
   ],
   "outputs": [],
   "metadata": {}
  },
  {
   "cell_type": "code",
   "execution_count": null,
   "source": [],
   "outputs": [],
   "metadata": {}
  }
 ],
 "metadata": {
  "kernelspec": {
   "name": "python3",
   "display_name": "Python 3.7.4 64-bit ('base': conda)"
  },
  "language_info": {
   "name": "python",
   "version": "3.7.4",
   "mimetype": "text/x-python",
   "codemirror_mode": {
    "name": "ipython",
    "version": 3
   },
   "pygments_lexer": "ipython3",
   "nbconvert_exporter": "python",
   "file_extension": ".py"
  },
  "interpreter": {
   "hash": "98b0a9b7b4eaaa670588a142fd0a9b87eaafe866f1db4228be72b4211d12040f"
  }
 },
 "nbformat": 4,
 "nbformat_minor": 2
}