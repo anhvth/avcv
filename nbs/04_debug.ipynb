{
 "cells": [
  {
   "cell_type": "code",
   "execution_count": null,
   "metadata": {},
   "outputs": [],
   "source": [
    "#default_exp debug"
   ]
  },
  {
   "cell_type": "markdown",
   "metadata": {},
   "source": [
    "# DEBUG\n",
    "> Detail API"
   ]
  },
  {
   "cell_type": "code",
   "execution_count": null,
   "metadata": {},
   "outputs": [],
   "source": [
    "#export\n",
    "import os\n",
    "import os.path as osp\n",
    "import matplotlib.pyplot as plt\n",
    "import numpy as np\n",
    "import mmcv\n",
    "from fastcore.script import *\n",
    "from pycocotools.coco import COCO\n",
    "import shutil\n",
    "\n",
    "\n",
    "@call_parse\n",
    "def make_mini_coco(json_path: Param(),\n",
    "                   image_prefix: Param(),\n",
    "                   out_dir: Param(),\n",
    "                   num_samples: Param(\"Num of sample\",type=int) = 1000):\n",
    "    \"\"\"\n",
    "        Helper function for creating a mini-dataset ensembles it's father\n",
    "    \"\"\"\n",
    "    new_img_prefix = osp.join(out_dir, \"images\")\n",
    "\n",
    "    out_json = os.path.join(out_dir, \"annotations\", \"mini_json.json\")\n",
    "    if not osp.exists(out_json):\n",
    "        print(\"Making mini dataset\", out_dir, \"num images:\", n)\n",
    "        os.makedirs(os.path.join(out_dir, \"images\"), exist_ok=True)\n",
    "        os.makedirs(os.path.join(out_dir, \"annotations\"), exist_ok=True)\n",
    "        coco = COCO(json_path)\n",
    "        # imgs = coco.imgs\n",
    "        img_ids = list(coco.imgs.keys())\n",
    "        np.random.seed(0)\n",
    "        selected_img_ids = np.random.choice(img_ids, n, replace=False)\n",
    "        imgs = coco.loadImgs(selected_img_ids)\n",
    "        selected_ann_ids = coco.getAnnIds(selected_img_ids)\n",
    "        anns = coco.loadAnns(selected_ann_ids)\n",
    "        for i, ann in enumerate(anns):\n",
    "            ann['iscrowd'] = False\n",
    "            anns[i] = ann\n",
    "        out_dict = dict(\n",
    "            images=imgs,\n",
    "            annotations=anns,\n",
    "            categories=coco.dataset['categories'],\n",
    "\n",
    "        )\n",
    "        for img in imgs:\n",
    "            path = osp.join(image_prefix, img['file_name'])\n",
    "            new_path = osp.join(new_img_prefix, img['file_name'])\n",
    "            shutil.copy(path, new_path)\n",
    "\n",
    "        mmcv.dump(out_dict, out_json)\n",
    "    print(out_json, new_img_prefix)\n",
    "    return out_json, new_img_prefix\n"
   ]
  },
  {
   "cell_type": "code",
   "execution_count": null,
   "metadata": {},
   "outputs": [],
   "source": [
    "#hide\n",
    "# make_mini_coco(\"/Users/bi/gitprojects/data/compressed_all_desay/coco/annotations/val.json\",\n",
    "# \"/Users/bi/gitprojects/data/compressed_all_desay/image/\", 'out')"
   ]
  },
  {
   "cell_type": "code",
   "execution_count": null,
   "metadata": {},
   "outputs": [],
   "source": []
  },
  {
   "cell_type": "code",
   "execution_count": null,
   "metadata": {},
   "outputs": [],
   "source": []
  }
 ],
 "metadata": {},
 "nbformat": 4,
 "nbformat_minor": 2
}
