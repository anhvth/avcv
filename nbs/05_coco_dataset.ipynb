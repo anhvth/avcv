{
 "cells": [
  {
   "cell_type": "code",
   "execution_count": 1,
   "id": "9d9d051c",
   "metadata": {},
   "outputs": [],
   "source": [
    "#default_exp coco"
   ]
  },
  {
   "cell_type": "markdown",
   "id": "c596b417",
   "metadata": {},
   "source": [
    "# COCO\n",
    "> Detail API"
   ]
  },
  {
   "cell_type": "code",
   "execution_count": 1,
   "id": "cdecddc4",
   "metadata": {},
   "outputs": [],
   "source": [
    "# export \n",
    "import json\n",
    "import torch\n",
    "import os\n",
    "import os.path as osp\n",
    "import shutil\n",
    "import time\n",
    "from collections import defaultdict\n",
    "\n",
    "import matplotlib.pyplot as plt\n",
    "import mmcv\n",
    "import numpy as np\n",
    "import pandas as pd\n",
    "from fastcore.script import *\n",
    "from pycocotools.cocoeval import COCOeval\n",
    "from pycocotools.coco import COCO\n",
    "from tqdm import tqdm\n",
    "from avcv.visualize import show as av_show\n",
    "from avcv.visualize import bbox_visualize\n",
    "from loguru import logger"
   ]
  },
  {
   "cell_type": "code",
   "execution_count": 2,
   "id": "76001c38",
   "metadata": {},
   "outputs": [],
   "source": [
    "# export\n",
    "class AvCOCO(COCO):\n",
    "    def __init__(self, annotation_file=None, verbose=False):\n",
    "        \"\"\"\n",
    "        Constructor of Microsoft COCO helper class for reading and visualizing annotations.\n",
    "        :param annotation_file (str): location of annotation file\n",
    "        :param image_folder (str): location to the folder that hosts images.\n",
    "        :return:\n",
    "        \"\"\"\n",
    "        # load dataset\n",
    "        self.dataset,self.anns,self.cats,self.imgs = dict(),dict(),dict(),dict()\n",
    "        self.imgToAnns, self.catToImgs = defaultdict(list), defaultdict(list)\n",
    "        self.verbose = verbose\n",
    "        if not annotation_file == None:\n",
    "            if verbose:\n",
    "                logger.info('loading annotations into memory...')\n",
    "            tic = time.time()\n",
    "            if isinstance(annotation_file, str):\n",
    "                with open(annotation_file, 'r') as f:\n",
    "                    dataset = json.load(f)\n",
    "            else:\n",
    "                dataset = annotation_file\n",
    "            assert type(dataset)==dict, 'annotation file format {} not supported'.format(type(dataset))\n",
    "            if verbose:\n",
    "                logger.info('Done (t={:0.2f}s)'.format(time.time()- tic))\n",
    "            self.dataset = dataset\n",
    "            self.createIndex()\n",
    "            \n",
    "            \n",
    "    def createIndex(self):\n",
    "        # create index\n",
    "        if self.verbose:\n",
    "            logger.info('creating index...')\n",
    "        anns, cats, imgs = {}, {}, {}\n",
    "        imgToAnns,catToImgs = defaultdict(list),defaultdict(list)\n",
    "        if 'annotations' in self.dataset:\n",
    "            for ann in self.dataset['annotations']:\n",
    "                imgToAnns[ann['image_id']].append(ann)\n",
    "                anns[ann['id']] = ann\n",
    "\n",
    "        if 'images' in self.dataset:\n",
    "            for img in self.dataset['images']:\n",
    "                imgs[img['id']] = img\n",
    "\n",
    "        if 'categories' in self.dataset:\n",
    "            for cat in self.dataset['categories']:\n",
    "                cats[cat['id']] = cat\n",
    "\n",
    "        if 'annotations' in self.dataset and 'categories' in self.dataset:\n",
    "            for ann in self.dataset['annotations']:\n",
    "                catToImgs[ann['category_id']].append(ann['image_id'])\n",
    "        if self.verbose:\n",
    "            logger.info('index created!')\n",
    "\n",
    "        # create class members\n",
    "        self.anns = anns\n",
    "        self.imgToAnns = imgToAnns\n",
    "        self.catToImgs = catToImgs\n",
    "        self.imgs = imgs\n",
    "        self.cats = cats\n",
    "\n",
    "\n",
    "class CocoDataset:\n",
    "    def __init__(self, gt, img_dir=None, pred=None):\n",
    "        if img_dir is None:\n",
    "            assert isinstance(gt, str) and '/annotations/' in gt\n",
    "            img_dir = gt.split('/annotations/')[0]+'/images'\n",
    "            logger.info(f'Img dir is not set, set to :{img_dir}')\n",
    "            assert osp.isdir(img_dir)\n",
    "        if isinstance(gt, COCO):\n",
    "            gt = gt.dataset\n",
    "        self.gt = AvCOCO(gt)\n",
    "\n",
    "        if isinstance(pred, str):\n",
    "            pred = mmcv.load(pred)\n",
    "\n",
    "        self.pred = self.gt.loadRes(pred) if pred is not None else None\n",
    "\n",
    "        self.img_dir = img_dir\n",
    "        self.img_ids = [_['id'] for _ in self.gt.imgs.values()]\n",
    "\n",
    "    def imread(self, img_id, channel_order='bgr'):\n",
    "        im = self.gt.imgs[img_id]\n",
    "        img_path = osp.join(self.img_dir,im['file_name'])\n",
    "        assert osp.exists(img_path), img_path\n",
    "        return mmcv.imread(img_path, channel_order=channel_order)\n",
    "\n",
    "    def visualize(self, img_id=None,  mode='gt', dpi=100, \n",
    "        show=False, anns=None, color='green', img=None, score_thr=0.3):\n",
    "        if img_id is None:\n",
    "            img_id = np.random.choice(self.img_ids)\n",
    "            logger.info(f'Random visualize img_id={img_id}')\n",
    "        if img is None:\n",
    "            img= self.imread(img_id)\n",
    "\n",
    "        if mode=='pred':\n",
    "            assert self.pred is not None\n",
    "\n",
    "        CLASSES = {cat_id:cat['name'] for cat_id, cat in self.gt.cats.items()}\n",
    "        im = self.gt.imgs[img_id]\n",
    "        source = self.pred if mode == 'pred' else self.gt\n",
    "\n",
    "        if anns is None:\n",
    "            anns  = source.loadAnns(source.getAnnIds(im['id']))\n",
    "\n",
    "        bboxes = []\n",
    "        lables = []\n",
    "        scores = []\n",
    "        for ann in anns:\n",
    "            x1,y1,w,h = [int(_) for _ in ann['bbox']]\n",
    "            x2 = x1+w\n",
    "            y2 = y1+h\n",
    "            scores.append(ann.get('score', 1))\n",
    "            bboxes.append([x1,y1,x2,y2])\n",
    "            lables.append(ann['category_id'])\n",
    "\n",
    "        bboxes = np.array(bboxes)\n",
    "        lables = np.array(lables)\n",
    "\n",
    "        if len(bboxes):\n",
    "            from avcv.visualize import bbox_visualize\n",
    "            img = bbox_visualize(img, bboxes, scores, lables, score_thr, CLASSES)\n",
    "#             img = mmcv.visualization.imshow_det_bboxes(img, bboxes, \n",
    "#                 lables, CLASSES, show=False, bbox_color=color, text_color=color, \n",
    "#                 score_thr=score_thr)\n",
    "        if show:\n",
    "            av_show(img[...,::-1], dpi=dpi)\n",
    "        return img\n",
    "\n",
    "    def load_anns(self, img_id, source=None):\n",
    "        if source is None:\n",
    "            source = self.gt\n",
    "        anns = source.loadAnns(source.getAnnIds(img_id))\n",
    "        return anns\n",
    "\n",
    "    def evaluate(self, *args, **kwargs):\n",
    "        cocoEval = COCOeval(self.gt, self.pred, 'bbox')\n",
    "        cocoEval.evaluate()\n",
    "        cocoEval.accumulate()\n",
    "        cocoEval.summarize()"
   ]
  },
  {
   "cell_type": "markdown",
   "id": "e1d43b1f",
   "metadata": {},
   "source": [
    "## Function utils"
   ]
  },
  {
   "cell_type": "code",
   "execution_count": 3,
   "id": "49a8c76e",
   "metadata": {},
   "outputs": [],
   "source": [
    "#export\n",
    "def get_bboxes(anns, mode='xywh', dtype=None, score_thr=None):\n",
    "    bboxes = []\n",
    "    for ann in anns:\n",
    "        if score_thr is not None and ann.get('score', False):\n",
    "            if ann['score'] < score_thr:\n",
    "                continue\n",
    "        x,y,w,h = ann['bbox']\n",
    "        if mode == 'xywh':\n",
    "            bboxes.append([x,y,w,h])\n",
    "        elif mode == 'xyxy':\n",
    "            bboxes.append([x,y,x+w,y+h])\n",
    "    bboxes = np.array(bboxes)\n",
    "    if dtype is not None:\n",
    "        bboxes = bboxes.astype(dtype)\n",
    "\n",
    "    return bboxes\n",
    "\n",
    "def get_overlap_rate(boxA, boxB):\n",
    "    xA = max(boxA[0], boxB[0])\n",
    "    yA = max(boxA[1], boxB[1])\n",
    "    xB = min(boxA[2], boxB[2])\n",
    "    yB = min(boxA[3], boxB[3])\n",
    "    interArea = max(0, xB - xA + 1) * max(0, yB - yA + 1)\n",
    "    boxAArea = (boxA[2] - boxA[0] + 1) * (boxA[3] - boxA[1] + 1)\n",
    "    iou = interArea / float(boxAArea)\n",
    "    return iou"
   ]
  },
  {
   "cell_type": "markdown",
   "id": "d9517518",
   "metadata": {},
   "source": [
    "# Evaluate "
   ]
  },
  {
   "cell_type": "code",
   "execution_count": 4,
   "id": "5ecd78cb",
   "metadata": {},
   "outputs": [],
   "source": [
    "#export\n",
    "class DiagnoseCoco(CocoDataset):\n",
    "    COLORS = dict(\n",
    "        FN='red', # Undetected GT\n",
    "        FP='yellow', # Wrong detection\n",
    "    )\n",
    "\n",
    "    def find_false_samples(self, img_id, score_thr=0.05, visualize=True):\n",
    "        from mmcv.ops import bbox_overlaps\n",
    "        assert self.gt is not None\n",
    "        assert self.pred is not None\n",
    "        pred_anns = [ann for ann in self.pred.loadAnns(self.pred.getAnnIds(img_id)) if ann['score']>score_thr]\n",
    "        gt_anns = self.gt.loadAnns(self.gt.getAnnIds(img_id))\n",
    "\n",
    "        pred_bboxes = get_bboxes(pred_anns, mode='xyxy')\n",
    "        pred_bboxes = torch.from_numpy(pred_bboxes).cuda().float()\n",
    "\n",
    "        gt_bboxes = get_bboxes(gt_anns, mode='xyxy')\n",
    "        gt_bboxes = torch.from_numpy(gt_bboxes).cuda().float()\n",
    "        with torch.no_grad():\n",
    "            ious = bbox_overlaps(pred_bboxes, gt_bboxes).cpu().numpy()\n",
    "        mapping_gt_pred = np.where(ious>0)\n",
    "\n",
    "        result = dict(tp=[], fn=[], fp=[])\n",
    "\n",
    "        gt_ids = list(range(len(gt_anns)))\n",
    "        pred_ids = list(range(len(pred_anns)))\n",
    "        for pred_id, gt_id in zip(*mapping_gt_pred):\n",
    "            if gt_anns[gt_id]['category_id'] == pred_anns[pred_id]['category_id']:\n",
    "                result['tp'].append(pred_anns[pred_id])\n",
    "                if gt_id in gt_ids:\n",
    "                    gt_ids.remove(gt_id)\n",
    "                if pred_id in pred_ids:\n",
    "                    pred_ids.remove(pred_id)\n",
    "\n",
    "\n",
    "        result['fp'] = [pred_anns[i] for i in  pred_ids]\n",
    "        result['fn'] = [gt_anns[i] for i in gt_ids]\n",
    "        if visualize:\n",
    "            vis_img = self.visualize(img_id, anns=result['fn'], color=self.COLORS['FN'], show=False)\n",
    "            vis_img = self.visualize(img_id,  anns=result['tp'],img=vis_img, show=False,)\n",
    "            vis_img = self.visualize(img_id, anns=result['fp'], dpi=150,color=self.COLORS['FP'], show=False, img=vis_img)\n",
    "            vis_img = vis_img[...,::-1].copy()\n",
    "            result['vis_img'] = vis_img\n",
    "        return result"
   ]
  },
  {
   "cell_type": "markdown",
   "id": "e909ae4f",
   "metadata": {},
   "source": [
    "# Utils\n",
    "## Video to coco folder"
   ]
  },
  {
   "cell_type": "code",
   "execution_count": 5,
   "id": "086617bd",
   "metadata": {},
   "outputs": [],
   "source": [
    "# export\n",
    "from avcv.utils import video_to_images, multi_thread, get_name\n",
    "import os.path as osp\n",
    "from glob import glob\n",
    "from functools import partial\n",
    "from PIL import Image\n",
    "\n",
    "\n",
    "def video_to_coco(\n",
    "    input_video,\n",
    "    test_json,\n",
    "    output_dir=None,\n",
    "    skip=1,\n",
    "    rescale=1,\n",
    "):\n",
    "\n",
    "    assert os.path.exists(input_video), f'{input_video} does not exist'\n",
    "    def path2image(path, root_dir):\n",
    "        w, h = Image.open(path).size\n",
    "        name = path.replace(root_dir, '')\n",
    "        if name.startswith('/'):\n",
    "            name = name[1:]\n",
    "        return dict(\n",
    "            file_name=name, height=h, width=w\n",
    "        )\n",
    "    \n",
    "\n",
    "    if output_dir is None:\n",
    "        name  = get_name(input_video) if not osp.isdir(input_video) else \\\n",
    "            os.path.normpath(input_video).split('/')[-1]\n",
    "        output_dir = osp.join('.cache/video_to_coco', name)\n",
    "        logger.info(f'Set output dir to->{output_dir}')\n",
    "\n",
    "    image_out_dir = osp.join(output_dir, 'images')\n",
    "\n",
    "    if osp.isdir(input_video):\n",
    "        logger.info(f'Symn link {input_video}-> {image_out_dir}')\n",
    "        mmcv.mkdir_or_exist(osp.dirname(image_out_dir))\n",
    "        os.symlink(os.path.abspath(input_video), image_out_dir)\n",
    "        \n",
    "\n",
    "    image_dir_name = osp.normpath(image_out_dir).split('/')[-1]\n",
    "    path_out_json = osp.join(output_dir, f'annotations/{image_dir_name}.json')\n",
    "\n",
    "    mmcv.mkdir_or_exist(osp.dirname(path_out_json))\n",
    "    mmcv.mkdir_or_exist(image_out_dir)\n",
    "    source_type = 'dir' if osp.isdir(input_video) else 'video'\n",
    "    logger.info(f'Generating images from {source_type}: {input_video} ->  {osp.abspath(output_dir)}')\n",
    "    if not osp.isdir(input_video):\n",
    "        video_to_images(input_video, image_out_dir, rescale=rescale)\n",
    "        \n",
    "    paths = glob(osp.join(image_out_dir, '*'))\n",
    "    out_dict = dict(images=[], annotations=[],\n",
    "                    categories=mmcv.load(test_json)['categories'])\n",
    "    out_dict['images'] = list(\n",
    "        map(partial(path2image, root_dir=image_out_dir), sorted(paths)))\n",
    "\n",
    "    for i, image in enumerate(out_dict['images']):\n",
    "        image['id'] = i\n",
    "    mmcv.dump(out_dict, path_out_json)\n",
    "    return os.path.normpath(path_out_json), os.path.normpath(image_out_dir)\n",
    "\n",
    "\n"
   ]
  },
  {
   "cell_type": "markdown",
   "id": "078f0fa8",
   "metadata": {},
   "source": [
    "## Example"
   ]
  },
  {
   "cell_type": "code",
   "execution_count": 78,
   "id": "d19b9055",
   "metadata": {},
   "outputs": [
    {
     "name": "stdout",
     "output_type": "stream",
     "text": [
      "\u001b[1m\u001b[36mannotations\u001b[m\u001b[m/ \u001b[1m\u001b[36mimages\u001b[m\u001b[m/\n"
     ]
    }
   ],
   "source": [
    "ls .cache/video_to_coco/hcm_5s/"
   ]
  },
  {
   "cell_type": "code",
   "execution_count": null,
   "id": "e2466bc8",
   "metadata": {},
   "outputs": [
    {
     "name": "stderr",
     "output_type": "stream",
     "text": [
      "2021-11-13 01:32:44.962 | INFO     | __main__:video_to_coco:31 - Set output dir to->.cache/video_to_coco/hcm_5s\n",
      "2021-11-13 01:32:44.964 | INFO     | __main__:video_to_coco:47 - Generating images from video: ../asset/hcm_5s.mp4 ->  /Users/bi/avcv/nbs/.cache/video_to_coco/hcm_5s\n"
     ]
    },
    {
     "name": "stdout",
     "output_type": "stream",
     "text": [
      "[>>>>>>>>>>>>>>>>>>>>>>>>>>>>>>>>] 50/50, 58.4 task/s, elapsed: 1s, ETA:     0s"
     ]
    },
    {
     "name": "stderr",
     "output_type": "stream",
     "text": [
      "2021-11-13 01:32:46.381 | INFO     | __main__:__init__:68 - Img dir is not set, set to :.cache/video_to_coco/hcm_5s/images\n",
      "2021-11-13 01:32:46.382 | INFO     | __main__:visualize:92 - Random visualize img_id=49\n"
     ]
    }
   ],
   "source": [
    "json_path, image_idr = video_to_coco('../asset/hcm_5s.mp4', '/Users/bi/data/tsd/unlabled_videos/annotations/path.json')\n",
    "\n",
    "ds = CocoDataset(json_path)\n",
    "ds.visualize(show=1, dpi=100);"
   ]
  },
  {
   "cell_type": "code",
   "execution_count": 73,
   "id": "4d7afa13",
   "metadata": {},
   "outputs": [
    {
     "name": "stderr",
     "output_type": "stream",
     "text": [
      "2021-11-13 01:16:17.077 | INFO     | __main__:video_to_coco:29 - Set output dir to->.cache/video_to_coco/\n",
      "2021-11-13 01:16:17.079 | INFO     | __main__:video_to_coco:34 - Symn link .cache/hcm_5s/images/-> .cache/video_to_coco/images\n",
      "2021-11-13 01:16:17.081 | INFO     | __main__:video_to_coco:44 - Generating images from dir: .cache/hcm_5s/images/ ->  /Users/bi/avcv/nbs/.cache/video_to_coco\n"
     ]
    },
    {
     "data": {
      "text/plain": [
       "('.cache/video_to_coco/annotations/images.json', '.cache/video_to_coco/images')"
      ]
     },
     "execution_count": 73,
     "metadata": {},
     "output_type": "execute_result"
    }
   ],
   "source": [
    "video_to_coco('.cache/hcm_5s/images/', '/Users/bi/data/tsd/unlabled_videos/annotations/path.json')"
   ]
  },
  {
   "cell_type": "markdown",
   "id": "5122728e",
   "metadata": {},
   "source": [
    "## CLI"
   ]
  },
  {
   "cell_type": "code",
   "execution_count": 24,
   "id": "d5768397",
   "metadata": {},
   "outputs": [],
   "source": [
    "#export\n",
    "@call_parse\n",
    "def v2c(input_video: Param(\"path to video\", str),\n",
    "        test_json: Param(\"path to annotation json path, to get the category\", str),\n",
    "        output_dir: Param(\"\", str) = None,\n",
    "        skip: Param(\"\", int) = 1,        rescale: Param(\"\", int) = 1\n",
    "        ):\n",
    "    return video_to_coco(input_video, test_json, output_dir, skip)\n"
   ]
  },
  {
   "cell_type": "code",
   "execution_count": 25,
   "id": "bc175984",
   "metadata": {
    "scrolled": true
   },
   "outputs": [
    {
     "name": "stdout",
     "output_type": "stream",
     "text": [
      "Converted 00_visualize.ipynb.\n",
      "Converted 01_process.ipynb.\n",
      "Converted 03_utils.ipynb.\n",
      "Converted 04_debug.ipynb.\n",
      "Converted 05_coco_dataset.ipynb.\n",
      "Converted index.ipynb.\n",
      "Obtaining file:///Users/bi/avcv\n",
      "Requirement already satisfied: tqdm in /Users/bi/miniconda3/lib/python3.9/site-packages (from avcv==0.0.17) (4.61.2)\n",
      "Requirement already satisfied: xxhash in /Users/bi/miniconda3/lib/python3.9/site-packages (from avcv==0.0.17) (2.0.2)\n",
      "Requirement already satisfied: matplotlib in /Users/bi/miniconda3/lib/python3.9/site-packages (from avcv==0.0.17) (3.4.3)\n",
      "Requirement already satisfied: scikit-learn in /Users/bi/miniconda3/lib/python3.9/site-packages (from avcv==0.0.17) (1.0)\n",
      "Requirement already satisfied: scikit-image in /Users/bi/miniconda3/lib/python3.9/site-packages (from avcv==0.0.17) (0.18.3)\n",
      "Requirement already satisfied: ipdb in /Users/bi/miniconda3/lib/python3.9/site-packages (from avcv==0.0.17) (0.13.9)\n",
      "Requirement already satisfied: imutils in /Users/bi/miniconda3/lib/python3.9/site-packages (from avcv==0.0.17) (0.5.4)\n",
      "Requirement already satisfied: mmcv in /Users/bi/miniconda3/lib/python3.9/site-packages (from avcv==0.0.17) (1.3.15)\n",
      "Requirement already satisfied: opencv-python in /Users/bi/miniconda3/lib/python3.9/site-packages (from avcv==0.0.17) (4.5.3.56)\n",
      "Requirement already satisfied: pandas in /Users/bi/miniconda3/lib/python3.9/site-packages (from avcv==0.0.17) (1.3.4)\n",
      "Requirement already satisfied: setuptools in /Users/bi/miniconda3/lib/python3.9/site-packages (from ipdb->avcv==0.0.17) (52.0.0.post20210125)\n",
      "Requirement already satisfied: ipython>=7.17.0 in /Users/bi/miniconda3/lib/python3.9/site-packages (from ipdb->avcv==0.0.17) (7.27.0)\n",
      "Requirement already satisfied: decorator in /Users/bi/miniconda3/lib/python3.9/site-packages (from ipdb->avcv==0.0.17) (5.1.0)\n",
      "Requirement already satisfied: toml>=0.10.2 in /Users/bi/miniconda3/lib/python3.9/site-packages (from ipdb->avcv==0.0.17) (0.10.2)\n",
      "Requirement already satisfied: backcall in /Users/bi/miniconda3/lib/python3.9/site-packages (from ipython>=7.17.0->ipdb->avcv==0.0.17) (0.2.0)\n",
      "Requirement already satisfied: appnope in /Users/bi/miniconda3/lib/python3.9/site-packages (from ipython>=7.17.0->ipdb->avcv==0.0.17) (0.1.2)\n",
      "Requirement already satisfied: prompt-toolkit!=3.0.0,!=3.0.1,<3.1.0,>=2.0.0 in /Users/bi/miniconda3/lib/python3.9/site-packages (from ipython>=7.17.0->ipdb->avcv==0.0.17) (3.0.20)\n",
      "Requirement already satisfied: matplotlib-inline in /Users/bi/miniconda3/lib/python3.9/site-packages (from ipython>=7.17.0->ipdb->avcv==0.0.17) (0.1.2)\n",
      "Requirement already satisfied: traitlets>=4.2 in /Users/bi/miniconda3/lib/python3.9/site-packages (from ipython>=7.17.0->ipdb->avcv==0.0.17) (5.1.0)\n",
      "Requirement already satisfied: pexpect>4.3 in /Users/bi/miniconda3/lib/python3.9/site-packages (from ipython>=7.17.0->ipdb->avcv==0.0.17) (4.8.0)\n",
      "Requirement already satisfied: jedi>=0.16 in /Users/bi/miniconda3/lib/python3.9/site-packages (from ipython>=7.17.0->ipdb->avcv==0.0.17) (0.18.0)\n",
      "Requirement already satisfied: pickleshare in /Users/bi/miniconda3/lib/python3.9/site-packages (from ipython>=7.17.0->ipdb->avcv==0.0.17) (0.7.5)\n",
      "Requirement already satisfied: pygments in /Users/bi/miniconda3/lib/python3.9/site-packages (from ipython>=7.17.0->ipdb->avcv==0.0.17) (2.10.0)\n",
      "Requirement already satisfied: parso<0.9.0,>=0.8.0 in /Users/bi/miniconda3/lib/python3.9/site-packages (from jedi>=0.16->ipython>=7.17.0->ipdb->avcv==0.0.17) (0.8.2)\n",
      "Requirement already satisfied: ptyprocess>=0.5 in /Users/bi/miniconda3/lib/python3.9/site-packages (from pexpect>4.3->ipython>=7.17.0->ipdb->avcv==0.0.17) (0.7.0)\n",
      "Requirement already satisfied: wcwidth in /Users/bi/miniconda3/lib/python3.9/site-packages (from prompt-toolkit!=3.0.0,!=3.0.1,<3.1.0,>=2.0.0->ipython>=7.17.0->ipdb->avcv==0.0.17) (0.2.5)\n",
      "Requirement already satisfied: pyparsing>=2.2.1 in /Users/bi/miniconda3/lib/python3.9/site-packages (from matplotlib->avcv==0.0.17) (2.4.7)\n",
      "Requirement already satisfied: pillow>=6.2.0 in /Users/bi/miniconda3/lib/python3.9/site-packages (from matplotlib->avcv==0.0.17) (8.4.0)\n",
      "Requirement already satisfied: kiwisolver>=1.0.1 in /Users/bi/miniconda3/lib/python3.9/site-packages (from matplotlib->avcv==0.0.17) (1.3.2)\n",
      "Requirement already satisfied: numpy>=1.16 in /Users/bi/miniconda3/lib/python3.9/site-packages (from matplotlib->avcv==0.0.17) (1.21.2)\n",
      "Requirement already satisfied: cycler>=0.10 in /Users/bi/miniconda3/lib/python3.9/site-packages (from matplotlib->avcv==0.0.17) (0.10.0)\n",
      "Requirement already satisfied: python-dateutil>=2.7 in /Users/bi/miniconda3/lib/python3.9/site-packages (from matplotlib->avcv==0.0.17) (2.8.2)\n",
      "Requirement already satisfied: six in /Users/bi/miniconda3/lib/python3.9/site-packages (from cycler>=0.10->matplotlib->avcv==0.0.17) (1.16.0)\n",
      "Requirement already satisfied: pyyaml in /Users/bi/miniconda3/lib/python3.9/site-packages (from mmcv->avcv==0.0.17) (6.0)\n",
      "Requirement already satisfied: yapf in /Users/bi/miniconda3/lib/python3.9/site-packages (from mmcv->avcv==0.0.17) (0.31.0)\n",
      "Requirement already satisfied: addict in /Users/bi/miniconda3/lib/python3.9/site-packages (from mmcv->avcv==0.0.17) (2.4.0)\n",
      "Requirement already satisfied: packaging in /Users/bi/miniconda3/lib/python3.9/site-packages (from mmcv->avcv==0.0.17) (21.0)\n",
      "Requirement already satisfied: pytz>=2017.3 in /Users/bi/miniconda3/lib/python3.9/site-packages (from pandas->avcv==0.0.17) (2021.3)\n",
      "Requirement already satisfied: tifffile>=2019.7.26 in /Users/bi/miniconda3/lib/python3.9/site-packages (from scikit-image->avcv==0.0.17) (2021.10.12)\n",
      "Requirement already satisfied: scipy>=1.0.1 in /Users/bi/miniconda3/lib/python3.9/site-packages (from scikit-image->avcv==0.0.17) (1.7.1)\n",
      "Requirement already satisfied: imageio>=2.3.0 in /Users/bi/miniconda3/lib/python3.9/site-packages (from scikit-image->avcv==0.0.17) (2.9.0)\n",
      "Requirement already satisfied: networkx>=2.0 in /Users/bi/miniconda3/lib/python3.9/site-packages (from scikit-image->avcv==0.0.17) (2.6.3)\n",
      "Requirement already satisfied: PyWavelets>=1.1.1 in /Users/bi/miniconda3/lib/python3.9/site-packages (from scikit-image->avcv==0.0.17) (1.1.1)\n",
      "Requirement already satisfied: joblib>=0.11 in /Users/bi/miniconda3/lib/python3.9/site-packages (from scikit-learn->avcv==0.0.17) (1.1.0)\n",
      "Requirement already satisfied: threadpoolctl>=2.0.0 in /Users/bi/miniconda3/lib/python3.9/site-packages (from scikit-learn->avcv==0.0.17) (3.0.0)\n",
      "Installing collected packages: avcv\n",
      "  Attempting uninstall: avcv\n",
      "    Found existing installation: avcv 0.0.17\n",
      "    Uninstalling avcv-0.0.17:\n",
      "      Successfully uninstalled avcv-0.0.17\n",
      "  Running setup.py develop for avcv\n",
      "Successfully installed avcv-0.0.17\n"
     ]
    }
   ],
   "source": [
    "!cd ~/avcv && nbdev_build_lib && pip install -e ./"
   ]
  },
  {
   "cell_type": "code",
   "execution_count": null,
   "id": "9ee6ad74",
   "metadata": {},
   "outputs": [],
   "source": []
  }
 ],
 "metadata": {
  "interpreter": {
   "hash": "1f605f05df6118dcfb15f8ce0bff332bd1a69b8b36c4ca17502b970c227ed457"
  },
  "kernelspec": {
   "display_name": "Python 3 (ipykernel)",
   "language": "python",
   "name": "python3"
  },
  "language_info": {
   "codemirror_mode": {
    "name": "ipython",
    "version": 3
   },
   "file_extension": ".py",
   "mimetype": "text/x-python",
   "name": "python",
   "nbconvert_exporter": "python",
   "pygments_lexer": "ipython3",
   "version": "3.9.5"
  }
 },
 "nbformat": 4,
 "nbformat_minor": 5
}
