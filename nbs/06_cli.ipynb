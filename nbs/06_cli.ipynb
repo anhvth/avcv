{
 "cells": [
  {
   "cell_type": "code",
   "execution_count": 3,
   "metadata": {},
   "outputs": [],
   "source": [
    "#default_exp cli"
   ]
  },
  {
   "cell_type": "markdown",
   "metadata": {},
   "source": []
  },
  {
   "cell_type": "code",
   "execution_count": null,
   "metadata": {},
   "outputs": [],
   "source": [
    "#hide\n",
    "from nbdev.showdoc import *"
   ]
  },
  {
   "cell_type": "markdown",
   "metadata": {},
   "source": [
    "## Convert png to jpg"
   ]
  },
  {
   "cell_type": "code",
   "execution_count": 4,
   "metadata": {},
   "outputs": [],
   "source": [
    "#export\n",
    "from glob import glob\n",
    "from avcv.utils import multi_thread\n",
    "import os.path as osp\n",
    "from fastcore.script import *\n",
    "import mmcv\n",
    "import os\n",
    "from loguru import logger\n",
    "\n",
    "\n",
    "@call_parse\n",
    "def convert_image(path: Param(help=\"Root dir\", type=str, default='**/*.png'),\n",
    "                  type_from_to: Param(help='Convert image from one type to another', type=str, default='png->jpg'),\n",
    "                  remove: Param(help=\"Remove after converted\", type=bool)):\n",
    "    assert '->' in 'type_from_to must include \"->\" '\n",
    "    source_ext, target_ext = type_from_to.split('->')\n",
    "    paths = glob(path, recursive=1)\n",
    "    if remove:\n",
    "        logger.info('Files will be removed after converted')\n",
    "    def f_convert(path):\n",
    "        dir_name, file_name = osp.dirname(path), osp.basename(path)\n",
    "        new_file_name = file_name.replace(f'.{source_ext}', f'.{target_ext}')\n",
    "        new_path = osp.join(dir_name, new_file_name)\n",
    "        mmcv.imwrite(mmcv.imread(path), new_path)\n",
    "        if remove: \n",
    "            os.remove(path)            \n",
    "    multi_thread(f_convert, paths, desc=f\"Converting {type_from_to} in {path}\")\n",
    "\n",
    "    "
   ]
  },
  {
   "cell_type": "code",
   "execution_count": null,
   "metadata": {},
   "outputs": [],
   "source": []
  }
 ],
 "metadata": {
  "interpreter": {
   "hash": "46c96ddc9a85a4aafe62ca91733346e2f3ffdc8119c617a8e4190eee6fd0eed7"
  },
  "kernelspec": {
   "display_name": "Python 3.8.11 64-bit ('tsr': conda)",
   "language": "python",
   "name": "python3"
  },
  "language_info": {
   "codemirror_mode": {
    "name": "ipython",
    "version": 3
   },
   "file_extension": ".py",
   "mimetype": "text/x-python",
   "name": "python",
   "nbconvert_exporter": "python",
   "pygments_lexer": "ipython3",
   "version": "3.8.11"
  },
  "orig_nbformat": 4
 },
 "nbformat": 4,
 "nbformat_minor": 2
}
