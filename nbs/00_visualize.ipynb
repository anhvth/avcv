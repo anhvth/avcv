{
 "cells": [
  {
   "cell_type": "code",
   "execution_count": null,
   "metadata": {},
   "outputs": [],
   "source": [
    "# default_exp visualize"
   ]
  },
  {
   "cell_type": "markdown",
   "metadata": {},
   "source": [
    "# Visualize\n",
    "\n",
    "> API details."
   ]
  },
  {
   "cell_type": "code",
   "execution_count": null,
   "metadata": {},
   "outputs": [],
   "source": [
    "#hide\n",
    "from nbdev.showdoc import *"
   ]
  },
  {
   "cell_type": "code",
   "execution_count": null,
   "metadata": {},
   "outputs": [],
   "source": [
    "#export\n",
    "import matplotlib.pyplot as plt\n",
    "import numpy as np\n",
    "import cv2\n",
    "from  loguru import logger\n",
    "def plot_images(images,\n",
    "                labels=None,\n",
    "                cls_true=None,\n",
    "                cls_pred=None,\n",
    "                space=(0.3, 0.3),\n",
    "                mxn=None,\n",
    "                size=(5, 5),\n",
    "                dpi=300,\n",
    "                max_w=1500,\n",
    "                out_file=None,\n",
    "                cmap='binary'):\n",
    "\n",
    "    if mxn is None:\n",
    "        # n = max(max_w // max([img.shape[1] for img in images]), 1)\n",
    "        n = int(np.sqrt(len(images)))\n",
    "        n = min(n, len(images))\n",
    "        m = len(images) // n\n",
    "        m = max(1, m)\n",
    "        mxn = (m, n)\n",
    "        logger.info(f\"Grid size: {mxn}\")\n",
    "\n",
    "    fig, axes = plt.subplots(*mxn)\n",
    "    fig.subplots_adjust(hspace=space[0], wspace=space[1])\n",
    "    fig.figsize = size\n",
    "    fig.dpi = dpi\n",
    "    for i, ax in enumerate(axes.flat):\n",
    "        if i < len(images):\n",
    "            ax.imshow(images[i], cmap=cmap)\n",
    "            if labels is not None:\n",
    "                xlabel = labels[i]\n",
    "            elif cls_pred is None and cls_true is not None:\n",
    "                xlabel = \"True: {0}\".format(cls_true[i])\n",
    "            elif cls_pred is None and cls_true is not None:\n",
    "                xlabel = \"True: {0}, Pred: {1}\".format(cls_true[i],\n",
    "                                                       cls_pred[i])\n",
    "            else:\n",
    "                xlabel = None\n",
    "            if xlabel is not None:\n",
    "                ax.set_xlabel(xlabel)\n",
    "            ax.set_xticks([])\n",
    "            ax.set_yticks([])\n",
    "    if out_file is None:\n",
    "        plt.show()\n",
    "    else:\n",
    "        plt.savefig(out_file)\n",
    "        logger.info('Save fig:', out_file)\n",
    "        plt.close()\n",
    "\n",
    "def imshow(inp,  dpi=100, size=10, cmap='gray', out_file=None):\n",
    "    \"\"\"\n",
    "        Input: either a path or image\n",
    "    \"\"\"\n",
    "    # inp = mmcv.imread(inp)\n",
    "    if len(inp.shape) == 4:\n",
    "        inp = inp[0]\n",
    "    inp = np.squeeze(inp)\n",
    "    if type(inp) is str:\n",
    "        assert os.path.exists(inp)\n",
    "        inp = cv2.imread(inp)\n",
    "    if size is None:\n",
    "        size = max(5, inp.shape[1] // 65)\n",
    "    plt.figure(figsize=(size, size), dpi=dpi)\n",
    "    plt.imshow(inp, cmap=cmap)\n",
    "    if out_file is None:\n",
    "        plt.show()\n",
    "    else:\n",
    "        plt.savefig(out_file)\n",
    "    plt.close()\n",
    "show = imshow"
   ]
  },
  {
   "cell_type": "code",
   "execution_count": null,
   "metadata": {},
   "outputs": [
    {
     "data": {
      "text/markdown": [
       "<h4 id=\"plot_images\" class=\"doc_header\"><code>plot_images</code><a href=\"__main__.py#L6\" class=\"source_link\" style=\"float:right\">[source]</a></h4>\n",
       "\n",
       "> <code>plot_images</code>(**`images`**, **`labels`**=*`None`*, **`cls_true`**=*`None`*, **`cls_pred`**=*`None`*, **`space`**=*`(0.3, 0.3)`*, **`mxn`**=*`None`*, **`size`**=*`(5, 5)`*, **`dpi`**=*`300`*, **`max_w`**=*`1500`*, **`out_file`**=*`None`*, **`cmap`**=*`'binary'`*)\n",
       "\n"
      ],
      "text/plain": [
       "<IPython.core.display.Markdown object>"
      ]
     },
     "metadata": {},
     "output_type": "display_data"
    },
    {
     "data": {
      "text/markdown": [
       "<h4 id=\"imshow\" class=\"doc_header\"><code>imshow</code><a href=\"__main__.py#L54\" class=\"source_link\" style=\"float:right\">[source]</a></h4>\n",
       "\n",
       "> <code>imshow</code>(**`inp`**, **`dpi`**=*`100`*, **`size`**=*`10`*, **`cmap`**=*`'gray'`*, **`out_file`**=*`None`*)\n",
       "\n",
       "Input: either a path or image"
      ],
      "text/plain": [
       "<IPython.core.display.Markdown object>"
      ]
     },
     "metadata": {},
     "output_type": "display_data"
    }
   ],
   "source": [
    "show_doc(plot_images)\n",
    "show_doc(imshow)"
   ]
  },
  {
   "cell_type": "markdown",
   "metadata": {},
   "source": [
    "## Tensor2images"
   ]
  },
  {
   "cell_type": "code",
   "execution_count": null,
   "metadata": {},
   "outputs": [],
   "source": [
    "#export\n",
    "import torch\n",
    "import mmcv\n",
    "import numpy as np\n",
    "\n",
    "def tensor2imgs(tensor, mode='bhwc', \n",
    "                    mean=(123.675, 116.28, 103.53), std= (58.395, 57.120000000000005, 57.375), **kwargs):\n",
    "    if isinstance(tensor, np.ndarray):\n",
    "        tensor = torch.from_numpy(tensor)\n",
    "    tensor = tensor.cpu()\n",
    "    if mode == 'bhwc':\n",
    "        tensor = tensor.permute([0,3,1,2])\n",
    "        return tensor2imgs(tensor, mode='bchw',std=std, mean=mean)\n",
    "    if mode == 'hwc':\n",
    "        tensor = tensor[None].permute([0,3,1,2])\n",
    "        return tensor2imgs(tensor, mode='bchw', std=std, mean=mean)[0]\n",
    "    if mode == 'chw':\n",
    "        tensor = tensor[None]\n",
    "        return tensor2imgs(tensor, mode='bchw', std=std, mean=mean)[0]\n",
    "    return mmcv.tensor2imgs(tensor, mean=mean, std=std, **kwargs)"
   ]
  },
  {
   "cell_type": "markdown",
   "metadata": {},
   "source": [
    "## Visualize bbox"
   ]
  },
  {
   "cell_type": "code",
   "execution_count": 19,
   "metadata": {},
   "outputs": [],
   "source": [
    "#export\n",
    "_COLORS = np.array(\n",
    "    [\n",
    "        0.000, 0.447, 0.741,\n",
    "        0.850, 0.325, 0.098,\n",
    "        0.929, 0.694, 0.125,\n",
    "        0.494, 0.184, 0.556,\n",
    "        0.466, 0.674, 0.188,\n",
    "        0.301, 0.745, 0.933,\n",
    "        0.635, 0.078, 0.184,\n",
    "        0.300, 0.300, 0.300,\n",
    "        0.600, 0.600, 0.600,\n",
    "        1.000, 0.000, 0.000,\n",
    "        1.000, 0.500, 0.000,\n",
    "        0.749, 0.749, 0.000,\n",
    "        0.000, 1.000, 0.000,\n",
    "        0.000, 0.000, 1.000,\n",
    "        0.667, 0.000, 1.000,\n",
    "        0.333, 0.333, 0.000,\n",
    "        0.333, 0.667, 0.000,\n",
    "        0.333, 1.000, 0.000,\n",
    "        0.667, 0.333, 0.000,\n",
    "        0.667, 0.667, 0.000,\n",
    "        0.667, 1.000, 0.000,\n",
    "        1.000, 0.333, 0.000,\n",
    "        1.000, 0.667, 0.000,\n",
    "        1.000, 1.000, 0.000,\n",
    "        0.000, 0.333, 0.500,\n",
    "        0.000, 0.667, 0.500,\n",
    "        0.000, 1.000, 0.500,\n",
    "        0.333, 0.000, 0.500,\n",
    "        0.333, 0.333, 0.500,\n",
    "        0.333, 0.667, 0.500,\n",
    "        0.333, 1.000, 0.500,\n",
    "        0.667, 0.000, 0.500,\n",
    "        0.667, 0.333, 0.500,\n",
    "        0.667, 0.667, 0.500,\n",
    "        0.667, 1.000, 0.500,\n",
    "        1.000, 0.000, 0.500,\n",
    "        1.000, 0.333, 0.500,\n",
    "        1.000, 0.667, 0.500,\n",
    "        1.000, 1.000, 0.500,\n",
    "        0.000, 0.333, 1.000,\n",
    "        0.000, 0.667, 1.000,\n",
    "        0.000, 1.000, 1.000,\n",
    "        0.333, 0.000, 1.000,\n",
    "        0.333, 0.333, 1.000,\n",
    "        0.333, 0.667, 1.000,\n",
    "        0.333, 1.000, 1.000,\n",
    "        0.667, 0.000, 1.000,\n",
    "        0.667, 0.333, 1.000,\n",
    "        0.667, 0.667, 1.000,\n",
    "        0.667, 1.000, 1.000,\n",
    "        1.000, 0.000, 1.000,\n",
    "        1.000, 0.333, 1.000,\n",
    "        1.000, 0.667, 1.000,\n",
    "        0.333, 0.000, 0.000,\n",
    "        0.500, 0.000, 0.000,\n",
    "        0.667, 0.000, 0.000,\n",
    "        0.833, 0.000, 0.000,\n",
    "        1.000, 0.000, 0.000,\n",
    "        0.000, 0.167, 0.000,\n",
    "        0.000, 0.333, 0.000,\n",
    "        0.000, 0.500, 0.000,\n",
    "        0.000, 0.667, 0.000,\n",
    "        0.000, 0.833, 0.000,\n",
    "        0.000, 1.000, 0.000,\n",
    "        0.000, 0.000, 0.167,\n",
    "        0.000, 0.000, 0.333,\n",
    "        0.000, 0.000, 0.500,\n",
    "        0.000, 0.000, 0.667,\n",
    "        0.000, 0.000, 0.833,\n",
    "        0.000, 0.000, 1.000,\n",
    "        0.000, 0.000, 0.000,\n",
    "        0.143, 0.143, 0.143,\n",
    "        0.286, 0.286, 0.286,\n",
    "        0.429, 0.429, 0.429,\n",
    "        0.571, 0.571, 0.571,\n",
    "        0.714, 0.714, 0.714,\n",
    "        0.857, 0.857, 0.857,\n",
    "        0.000, 0.447, 0.741,\n",
    "        0.314, 0.717, 0.741,\n",
    "        0.50, 0.5, 0\n",
    "    ]\n",
    ").astype(np.float32).reshape(-1, 3)\n",
    "\n",
    "def bbox_visualize(img, boxes, scores, cls_ids, conf=0.5, class_names=None, texts=None, box_color=None):\n",
    "    img = img.copy()\n",
    "    for i in range(len(boxes)):\n",
    "        box = boxes[i]\n",
    "        cls_id = int(cls_ids[i])\n",
    "        score = scores[i]\n",
    "        if score < conf:\n",
    "            continue\n",
    "        x0 = int(box[0])\n",
    "        y0 = int(box[1])\n",
    "        x1 = int(box[2])\n",
    "        y1 = int(box[3])\n",
    "        if box_color is None:\n",
    "            \n",
    "            color_id = cls_id % len(_COLORS)\n",
    "            _color = _COLORS[color_id]\n",
    "        else:\n",
    "            _color = np.array(box_color)/255.\n",
    "            \n",
    "        color = (_color * 255).astype(np.uint8).tolist()\n",
    "\n",
    "        txt_color = (0, 0, 0) if np.mean(_color) > 0.5 else (255, 255, 255)\n",
    "        txt_bk_color = (_color * 255 * 0.7).astype(np.uint8).tolist()\n",
    "\n",
    "            \n",
    "            \n",
    "        if texts is None:\n",
    "            text = '{}:{:.1f}%'.format(class_names[cls_id], score * 100)\n",
    "        else:\n",
    "            text = texts[i]\n",
    "        \n",
    "        font = cv2.FONT_HERSHEY_SIMPLEX\n",
    "\n",
    "        txt_size = cv2.getTextSize(text, font, 0.4, 1)[0]\n",
    "        cv2.rectangle(img, (x0, y0), (x1, y1), color, 2)\n",
    "\n",
    "        \n",
    "        cv2.rectangle(\n",
    "            img,\n",
    "            (x0, y0 + 1),\n",
    "            (x0 + txt_size[0] + 1, y0 + int(1.5*txt_size[1])),\n",
    "            txt_bk_color,\n",
    "            -1\n",
    "        )\n",
    "        cv2.putText(img, text, (x0, y0 + txt_size[1]), font, 0.4, txt_color, thickness=1)\n",
    "\n",
    "    return img"
   ]
  },
  {
   "cell_type": "code",
   "execution_count": null,
   "metadata": {},
   "outputs": [],
   "source": []
  },
  {
   "cell_type": "code",
   "execution_count": 20,
   "metadata": {},
   "outputs": [
    {
     "data": {
      "text/markdown": [
       "<h4 id=\"bbox_visualize\" class=\"doc_header\"><code>bbox_visualize</code><a href=\"__main__.py#L87\" class=\"source_link\" style=\"float:right\">[source]</a></h4>\n",
       "\n",
       "> <code>bbox_visualize</code>(**`img`**, **`boxes`**, **`scores`**, **`cls_ids`**, **`conf`**=*`0.5`*, **`class_names`**=*`None`*, **`texts`**=*`None`*, **`box_color`**=*`None`*)\n",
       "\n"
      ],
      "text/plain": [
       "<IPython.core.display.Markdown object>"
      ]
     },
     "metadata": {},
     "output_type": "display_data"
    },
    {
     "data": {
      "image/png": "[encoded data removed]",
      "text/plain": [
       "<Figure size 500x500 with 1 Axes>"
      ]
     },
     "metadata": {
      "needs_background": "light"
     },
     "output_type": "display_data"
    }
   ],
   "source": [
    "show_doc(bbox_visualize)\n",
    "# demo\n",
    "img = np.zeros([500, 500,3], 'uint8')\n",
    "bboxes = [[100,100, 200, 200]]\n",
    "scores = [1]\n",
    "cls_ids = [0]\n",
    "# class_names = ['test']\n",
    "texts = ['Class 1 10%']\n",
    "\n",
    "vis = bbox_visualize(img, bboxes, scores,cls_ids, texts=texts, box_color=(255,0,0))\n",
    "imshow(vis, dpi=50)"
   ]
  },
  {
   "cell_type": "code",
   "execution_count": 22,
   "metadata": {},
   "outputs": [
    {
     "name": "stdout",
     "output_type": "stream",
     "text": [
      "Converted 00_visualize.ipynb.\n",
      "Converted 01_process.ipynb.\n",
      "Converted 03_1_memoize.ipynb.\n",
      "Converted 03_utils.ipynb.\n",
      "Converted 04_debug.ipynb.\n",
      "Converted 05_coco_dataset.ipynb.\n",
      "Converted 06_cli.ipynb.\n",
      "Converted all.ipynb.\n",
      "Converted index.ipynb.\n"
     ]
    }
   ],
   "source": [
    "!nbdev_build_lib"
   ]
  },
  {
   "cell_type": "code",
   "execution_count": null,
   "metadata": {},
   "outputs": [],
   "source": []
  },
  {
   "cell_type": "code",
   "execution_count": null,
   "metadata": {},
   "outputs": [],
   "source": []
  },
  {
   "cell_type": "code",
   "execution_count": null,
   "metadata": {},
   "outputs": [],
   "source": []
  },
  {
   "cell_type": "code",
   "execution_count": null,
   "metadata": {},
   "outputs": [],
   "source": []
  },
  {
   "cell_type": "code",
   "execution_count": null,
   "metadata": {},
   "outputs": [],
   "source": []
  }
 ],
 "metadata": {
  "kernelspec": {
   "display_name": "Python 3 (ipykernel)",
   "language": "python",
   "name": "python3"
  },
  "language_info": {
   "codemirror_mode": {
    "name": "ipython",
    "version": 3
   },
   "file_extension": ".py",
   "mimetype": "text/x-python",
   "name": "python",
   "nbconvert_exporter": "python",
   "pygments_lexer": "ipython3",
   "version": "3.8.11"
  }
 },
 "nbformat": 4,
 "nbformat_minor": 4
}
