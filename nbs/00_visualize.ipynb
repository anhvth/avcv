{
 "cells": [
  {
   "cell_type": "code",
   "execution_count": null,
   "metadata": {},
   "outputs": [],
   "source": [
    "# default_exp visualize"
   ]
  },
  {
   "cell_type": "markdown",
   "metadata": {},
   "source": [
    "# Visualize\n",
    "\n",
    "> API details."
   ]
  },
  {
   "cell_type": "code",
   "execution_count": null,
   "metadata": {},
   "outputs": [],
   "source": [
    "#hide\n",
    "from nbdev.showdoc import *"
   ]
  },
  {
   "cell_type": "code",
   "execution_count": null,
   "metadata": {},
   "outputs": [],
   "source": [
    "#export\n",
    "import matplotlib.pyplot as plt\n",
    "import numpy as np\n",
    "\n",
    "def plot_images(images,\n",
    "                labels=None,\n",
    "                cls_true=None,\n",
    "                cls_pred=None,\n",
    "                space=(0.3, 0.3),\n",
    "                mxn=None,\n",
    "                size=(5, 5),\n",
    "                dpi=300,\n",
    "                max_w=1500,\n",
    "                out_file=None,\n",
    "                cmap='binary'):\n",
    "\n",
    "    if mxn is None:\n",
    "        # n = max(max_w // max([img.shape[1] for img in images]), 1)\n",
    "        n = int(np.sqrt(len(images)))\n",
    "        n = min(n, len(images))\n",
    "        m = len(images) // n\n",
    "        m = max(1, m)\n",
    "        mxn = (m, n)\n",
    "        print(mxn)\n",
    "\n",
    "    fig, axes = plt.subplots(*mxn)\n",
    "    fig.subplots_adjust(hspace=space[0], wspace=space[1])\n",
    "    fig.figsize = size\n",
    "    fig.dpi = dpi\n",
    "    for i, ax in enumerate(axes.flat):\n",
    "        if i < len(images):\n",
    "            ax.imshow(images[i], cmap=cmap)\n",
    "            if labels is not None:\n",
    "                xlabel = labels[i]\n",
    "            elif cls_pred is None and cls_true is not None:\n",
    "                xlabel = \"True: {0}\".format(cls_true[i])\n",
    "            elif cls_pred is None and cls_true is not None:\n",
    "                xlabel = \"True: {0}, Pred: {1}\".format(cls_true[i],\n",
    "                                                       cls_pred[i])\n",
    "            else:\n",
    "                xlabel = None\n",
    "            if xlabel is not None:\n",
    "                ax.set_xlabel(xlabel)\n",
    "            ax.set_xticks([])\n",
    "            ax.set_yticks([])\n",
    "    if out_file is None:\n",
    "        plt.show()\n",
    "    else:\n",
    "        plt.savefig(out_file)\n",
    "        print('Save fig:', out_file)\n",
    "        plt.close()\n",
    "\n",
    "def show(inp, size=10, dpi=300, cmap='gray', out_file=None):\n",
    "    \"\"\"\n",
    "        Input: either a path or image\n",
    "    \"\"\"\n",
    "    # inp = mmcv.imread(inp)\n",
    "    import matplotlib.pyplot as plt\n",
    "    if len(inp.shape) == 4:\n",
    "        inp = inp[0]\n",
    "    inp = np.squeeze(inp)\n",
    "    if type(inp) is str:\n",
    "        assert os.path.exists(inp)\n",
    "        inp = cv2.imread(inp)\n",
    "    if size is None:\n",
    "        size = max(5, inp.shape[1] // 65)\n",
    "    plt.figure(figsize=(size, size), dpi=dpi)\n",
    "    plt.imshow(inp, cmap=cmap)\n",
    "    if out_file is None:\n",
    "        plt.show()\n",
    "    else:\n",
    "        plt.savefig(out_file)\n",
    "    plt.close()"
   ]
  },
  {
   "cell_type": "code",
   "execution_count": null,
   "metadata": {},
   "outputs": [],
   "source": [
    "#export\n",
    "import torch\n",
    "import mmcv\n",
    "def tensor2imgs(tensor, mode='bhwc', mean=(123.675, 116.28, 103.53), std= (58.395, 57.120000000000005, 57.375), **kwargs):\n",
    "    tensor = torch.Tensor(tensor)\n",
    "    if mode == 'bhwc':\n",
    "        tensor = tensor.permute([0,3,1,2])\n",
    "        return tensor2imgs(tensor, mode='bchw',std=std, mean=mean)\n",
    "    if mode == 'hwc':\n",
    "        tensor = tensor[None].permute([0,3,1,2])\n",
    "        return tensor2imgs(tensor, mode='bchw', std=std, mean=mean)[0]\n",
    "    if mode == 'chw':\n",
    "        tensor = tensor[None]\n",
    "        return tensor2imgs(tensor, mode='bchw', std=std, mean=mean)[0]\n",
    "    return mmcv.tensor2imgs(tensor, mean=mean, std=std, **kwargs)"
   ]
  },
  {
   "cell_type": "code",
   "execution_count": null,
   "metadata": {},
   "outputs": [],
   "source": []
  }
 ],
 "metadata": {
  "kernelspec": {
   "display_name": "Python 3.8.10 64-bit ('yolox': conda)",
   "name": "python3"
  }
 },
 "nbformat": 4,
 "nbformat_minor": 4
}
