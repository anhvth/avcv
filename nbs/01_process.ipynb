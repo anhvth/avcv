{
 "cells": [
  {
   "cell_type": "code",
   "execution_count": null,
   "metadata": {},
   "outputs": [],
   "source": [
    "#| default_exp process"
   ]
  },
  {
   "cell_type": "markdown",
   "metadata": {},
   "source": [
    "# Process\n",
    "\n",
    "> API details."
   ]
  },
  {
   "cell_type": "code",
   "execution_count": null,
   "metadata": {},
   "outputs": [
    {
     "name": "stdout",
     "output_type": "stream",
     "text": [
      "import mmcv\n",
      "import pandas\n",
      "import matplotlib\n"
     ]
    },
    {
     "name": "stderr",
     "output_type": "stream",
     "text": [
      "<string>:1: FutureWarning: pandas.Float64Index is deprecated and will be removed from pandas in a future version. Use pandas.Index with the appropriate dtype instead.\n",
      "<string>:1: FutureWarning: pandas.Int64Index is deprecated and will be removed from pandas in a future version. Use pandas.Index with the appropriate dtype instead.\n",
      "<string>:1: FutureWarning: pandas.UInt64Index is deprecated and will be removed from pandas in a future version. Use pandas.Index with the appropriate dtype instead.\n"
     ]
    }
   ],
   "source": [
    "#| export\n",
    "from avcv._imports import *"
   ]
  },
  {
   "cell_type": "code",
   "execution_count": null,
   "metadata": {},
   "outputs": [],
   "source": [
    "#| export\n",
    "def multi_thread(fn, array_inputs, max_workers=None, \n",
    "                 desc=\"\", unit=\"Samples\", \n",
    "                 verbose=True, pbar_iterval=10):\n",
    "\n",
    "    def _wraper(x):\n",
    "        i, input = x\n",
    "        return {i: fn(input)}\n",
    "\n",
    "    array_inputs = [(i, _) for i, _ in enumerate(array_inputs)]\n",
    "    if verbose:\n",
    "        logger.info(desc)\n",
    "        progress_bar = mmcv.ProgressBar(len(array_inputs))#tqdm(total=len(array_inputs))\n",
    "    outputs = {}\n",
    "    with ThreadPoolExecutor(max_workers=max_workers) as executor:\n",
    "        for i, result in enumerate(executor.map(_wraper, array_inputs)):\n",
    "            outputs.update(result)\n",
    "            if verbose and i%pbar_iterval==0:\n",
    "                progress_bar.update(pbar_iterval)\n",
    "    # if verbose:\n",
    "        # logger.info('multi_thread {}, {}', fn.__name__, desc)\n",
    "    outputs = list(outputs.values())\n",
    "    return outputs\n",
    "\n",
    "\n"
   ]
  },
  {
   "cell_type": "code",
   "execution_count": null,
   "metadata": {},
   "outputs": [
    {
     "name": "stderr",
     "output_type": "stream",
     "text": [
      "2022-11-10 04:04:27.315 | INFO     | __main__:multi_thread:12 - \n"
     ]
    },
    {
     "name": "stdout",
     "output_type": "stream",
     "text": [
      "[>>>>>>>>>>>>>>>>>>>>>>>>>>>>>>>>>>>>>>>>>>>>>>>>>>>>>>>>>>>>>>>>] 10/5, 349.7 task/s, elapsed: 0s, ETA:     0s"
     ]
    },
    {
     "data": {
      "text/plain": [
       "[1, 2, 3, 4, 5]"
      ]
     },
     "execution_count": null,
     "metadata": {},
     "output_type": "execute_result"
    }
   ],
   "source": [
    "#| hide\n",
    "show_doc(multi_thread)\n",
    "def add(x):return x+1\n",
    "multi_thread(add, range(5), verbose=1)"
   ]
  },
  {
   "cell_type": "code",
   "execution_count": null,
   "metadata": {},
   "outputs": [],
   "source": [
    "#|export\n",
    "def multi_process(f, inputs, max_workers=8, desc='',\n",
    "               unit='Samples', verbose=True, pbar_iterval=10):\n",
    "    if verbose:\n",
    "        \n",
    "        logger.info('Multi processing {} | Num samples: {}', f.__name__, len(inputs))\n",
    "        pbar = mmcv.ProgressBar(len(inputs))\n",
    "        \n",
    "    with Pool(max_workers) as p:\n",
    "        it = p.imap(f, inputs)\n",
    "        total = len(inputs)\n",
    "        # return list(tqdm(it, total=total))\n",
    "        return_list = []\n",
    "        for i, ret in enumerate(it):\n",
    "            return_list.append(ret)\n",
    "            if i % pbar_iterval == 0 and verbose:\n",
    "                pbar.update(pbar_iterval)\n",
    "    return return_list\n",
    "\n"
   ]
  },
  {
   "cell_type": "code",
   "execution_count": null,
   "metadata": {},
   "outputs": [
    {
     "name": "stderr",
     "output_type": "stream",
     "text": [
      "2022-11-10 04:04:28.550 | INFO     | __main__:multi_process:6 - Multi processing add | Num samples: 5\n"
     ]
    },
    {
     "name": "stdout",
     "output_type": "stream",
     "text": [
      "[>>>>>>>>>>>>>>>>>>>>>>>>>>>>>>>>>>>>>>>>>>>>>>>>>>>>>>>>>>>>>>>>] 10/5, 149.1 task/s, elapsed: 0s, ETA:     0s"
     ]
    },
    {
     "data": {
      "text/plain": [
       "[1, 2, 3, 4, 5]"
      ]
     },
     "execution_count": null,
     "metadata": {},
     "output_type": "execute_result"
    }
   ],
   "source": [
    "#|hide\n",
    "show_doc(multi_process)\n",
    "multi_process(add, range(5), verbose=1)"
   ]
  },
  {
   "cell_type": "code",
   "execution_count": null,
   "metadata": {},
   "outputs": [
    {
     "name": "stderr",
     "output_type": "stream",
     "text": [
      "2022-11-10 04:04:28.774 | INFO     | __main__:multi_process:6 - Multi processing f | Num samples: 20\n"
     ]
    },
    {
     "name": "stdout",
     "output_type": "stream",
     "text": [
      "[>>>>>>>>>>>>>>>>>>>>>>>>>>>>>>>>] 20/20, 22.4 task/s, elapsed: 1s, ETA:     0s"
     ]
    }
   ],
   "source": [
    "#| hide\n",
    "\n",
    "def f(x):\n",
    "    time.sleep(np.random.uniform(0.1, .5))\n",
    "multi_process(f, range(20), );"
   ]
  },
  {
   "cell_type": "markdown",
   "metadata": {},
   "source": [
    "## Example"
   ]
  },
  {
   "cell_type": "code",
   "execution_count": null,
   "metadata": {},
   "outputs": [
    {
     "name": "stderr",
     "output_type": "stream",
     "text": [
      "2022-11-10 04:04:29.807 | INFO     | __main__:multi_thread:12 - \n"
     ]
    },
    {
     "name": "stdout",
     "output_type": "stream",
     "text": [
      "[>>>>>>>>>>>>>>>>>>>>>>>>>>>>>>>>>>>>>>>>>>>>>>>>>>>>>>>] 10/6, 81.7 task/s, elapsed: 0s, ETA:     0s"
     ]
    },
    {
     "name": "stderr",
     "output_type": "stream",
     "text": [
      "2022-11-10 04:04:30.146 | INFO     | __main__:multi_process:6 - Multi processing f | Num samples: 10\n"
     ]
    },
    {
     "name": "stdout",
     "output_type": "stream",
     "text": [
      "Since start: 0.34 s\n",
      "[>>>>>>>>>>>>>>>>>>>>>>>>>>>>>>>>] 10/10, 62.6 task/s, elapsed: 0s, ETA:     0s"
     ]
    },
    {
     "data": {
      "text/plain": [
       "[0, 1, 2, 3, 4, 5, 6, 7, 8, 9]"
      ]
     },
     "execution_count": null,
     "metadata": {},
     "output_type": "execute_result"
    }
   ],
   "source": [
    "show_doc(multi_thread)\n",
    "\n",
    "\n",
    "def f(i):\n",
    "    time.sleep(0.1)\n",
    "    return i\n",
    "timer = mmcv.Timer()\n",
    "\n",
    "multi_thread(f, range(6), max_workers=2)\n",
    "assert timer.since_start() < 2\n",
    "print(f'Since start: {timer.since_start():0.2f} s')\n",
    "multi_process(f, range(10))"
   ]
  },
  {
   "cell_type": "code",
   "execution_count": null,
   "metadata": {},
   "outputs": [],
   "source": []
  },
  {
   "cell_type": "code",
   "execution_count": null,
   "metadata": {},
   "outputs": [],
   "source": [
    "!nbdev_export"
   ]
  },
  {
   "cell_type": "code",
   "execution_count": null,
   "metadata": {},
   "outputs": [],
   "source": []
  },
  {
   "cell_type": "code",
   "execution_count": null,
   "metadata": {},
   "outputs": [],
   "source": []
  },
  {
   "cell_type": "code",
   "execution_count": null,
   "metadata": {},
   "outputs": [],
   "source": []
  },
  {
   "cell_type": "code",
   "execution_count": null,
   "metadata": {},
   "outputs": [],
   "source": []
  },
  {
   "cell_type": "code",
   "execution_count": null,
   "metadata": {},
   "outputs": [],
   "source": []
  }
 ],
 "metadata": {
  "kernelspec": {
   "display_name": "Python 3 (ipykernel)",
   "language": "python",
   "name": "python3"
  }
 },
 "nbformat": 4,
 "nbformat_minor": 4
}
