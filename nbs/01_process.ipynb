{
 "cells": [
  {
   "cell_type": "code",
   "execution_count": null,
   "metadata": {},
   "outputs": [],
   "source": [
    "#| default_exp process"
   ]
  },
  {
   "cell_type": "markdown",
   "metadata": {},
   "source": [
    "# Multithreading\n",
    "\n",
    "> API details."
   ]
  },
  {
   "cell_type": "code",
   "execution_count": 2,
   "metadata": {},
   "outputs": [],
   "source": [
    "#| hide\n",
    "from nbdev.showdoc import *"
   ]
  },
  {
   "cell_type": "code",
   "execution_count": 1,
   "metadata": {},
   "outputs": [],
   "source": [
    "#| export\n",
    "import mmcv\n",
    "from loguru import logger\n",
    "def multi_thread(fn, array_inputs, max_workers=None, desc=\"Multi-thread Pipeline\", unit=\"Samples\", verbose=True, pbar_iterval=50):\n",
    "    from concurrent.futures import ThreadPoolExecutor\n",
    "    from functools import partial\n",
    "    from glob import glob\n",
    "    from multiprocessing import Pool\n",
    "    from tqdm import tqdm\n",
    "\n",
    "    def _wraper(x):\n",
    "        i, input = x\n",
    "        return {i: fn(input)}\n",
    "\n",
    "    array_inputs = [(i, _) for i, _ in enumerate(array_inputs)]\n",
    "    if verbose:\n",
    "        progress_bar = tqdm(total=len(array_inputs))\n",
    "    outputs = {}\n",
    "    with ThreadPoolExecutor(max_workers=max_workers) as executor:\n",
    "        for i, result in enumerate(executor.map(_wraper, array_inputs)):\n",
    "            outputs.update(result)\n",
    "            if verbose:# and i%pbar_iterval==0:\n",
    "                progress_bar.update()\n",
    "    if verbose:\n",
    "        logger.info('multi_thread')\n",
    "    outputs = list(outputs.values())\n",
    "    return outputs\n"
   ]
  },
  {
   "cell_type": "markdown",
   "metadata": {},
   "source": [
    "## Example"
   ]
  },
  {
   "cell_type": "code",
   "execution_count": 11,
   "metadata": {},
   "outputs": [
    {
     "data": {
      "text/markdown": [
       "<h4 id=\"multi_thread\" class=\"doc_header\"><code>multi_thread</code><a href=\"__main__.py#L4\" class=\"source_link\" style=\"float:right\">[source]</a></h4>\n",
       "\n",
       "> <code>multi_thread</code>(**`fn`**, **`array_inputs`**, **`max_workers`**=*`None`*, **`desc`**=*`'Multi-thread Pipeline'`*, **`unit`**=*`'Samples'`*, **`verbose`**=*`True`*)\n",
       "\n"
      ],
      "text/plain": [
       "<IPython.core.display.Markdown object>"
      ]
     },
     "metadata": {},
     "output_type": "display_data"
    },
    {
     "name": "stdout",
     "output_type": "stream",
     "text": [
      "[>>>>>>>>>>>>>>>>>>>>>>>>>>>>>>>>>>>] 6/6, 4.0 task/s, elapsed: 2s, ETA:     0s"
     ]
    },
    {
     "name": "stderr",
     "output_type": "stream",
     "text": [
      "2021-11-12 00:40:53.743 | INFO     | __main__:multi_thread:25 - multi_thread\n"
     ]
    },
    {
     "name": "stdout",
     "output_type": "stream",
     "text": [
      "Since start: 1.51 s\n"
     ]
    }
   ],
   "source": [
    "show_doc(multi_thread)\n",
    "\n",
    "import time\n",
    "import mmcv\n",
    "\n",
    "def f(i):\n",
    "    time.sleep(0.5)\n",
    "timer = mmcv.Timer()\n",
    "\n",
    "multi_thread(f, range(6), max_workers=2)\n",
    "assert timer.since_start() < 2\n",
    "print(f'Since start: {timer.since_start():0.2f} s')"
   ]
  },
  {
   "cell_type": "markdown",
   "metadata": {},
   "source": [
    "# Multi-process"
   ]
  },
  {
   "cell_type": "code",
   "execution_count": 2,
   "metadata": {},
   "outputs": [
    {
     "name": "stdout",
     "output_type": "stream",
     "text": [
      "Converted 00_visualize.ipynb.\n",
      "Converted 01_process.ipynb.\n",
      "Converted 03_1_memoize.ipynb.\n",
      "Converted 03_utils.ipynb.\n",
      "Converted 04_debug.ipynb.\n",
      "Converted 05_coco_dataset.ipynb.\n",
      "Converted 06_cli.ipynb.\n",
      "Converted all.ipynb.\n",
      "Converted index.ipynb.\n"
     ]
    }
   ],
   "source": [
    "!nbdev_build_lib"
   ]
  },
  {
   "cell_type": "code",
   "execution_count": null,
   "metadata": {},
   "outputs": [],
   "source": []
  },
  {
   "cell_type": "code",
   "execution_count": null,
   "metadata": {},
   "outputs": [],
   "source": []
  },
  {
   "cell_type": "code",
   "execution_count": null,
   "metadata": {},
   "outputs": [],
   "source": []
  }
 ],
 "metadata": {
  "kernelspec": {
   "display_name": "Python 3 (ipykernel)",
   "language": "python",
   "name": "python3"
  },
  "language_info": {
   "codemirror_mode": {
    "name": "ipython",
    "version": 3
   },
   "file_extension": ".py",
   "mimetype": "text/x-python",
   "name": "python",
   "nbconvert_exporter": "python",
   "pygments_lexer": "ipython3",
   "version": "3.8.11"
  }
 },
 "nbformat": 4,
 "nbformat_minor": 4
}
