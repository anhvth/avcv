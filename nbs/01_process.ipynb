{
 "cells": [
  {
   "cell_type": "code",
   "execution_count": null,
   "metadata": {},
   "outputs": [],
   "source": [
    "#| default_exp process"
   ]
  },
  {
   "cell_type": "markdown",
   "metadata": {},
   "source": [
    "# Multithreading\n",
    "\n",
    "> API details."
   ]
  },
  {
   "cell_type": "code",
   "execution_count": null,
   "metadata": {},
   "outputs": [],
   "source": [
    "#| hide\n",
    "from nbdev.showdoc import *"
   ]
  },
  {
   "cell_type": "code",
   "execution_count": null,
   "metadata": {},
   "outputs": [],
   "source": [
    "#| export\n",
    "import mmcv\n",
    "from loguru import logger\n",
    "def multi_thread(fn, array_inputs, max_workers=None, desc=\"Multi-thread Pipeline\", unit=\"Samples\", verbose=True, pbar_iterval=50):\n",
    "    from concurrent.futures import ThreadPoolExecutor\n",
    "    from functools import partial\n",
    "    from glob import glob\n",
    "    from multiprocessing import Pool\n",
    "    from tqdm import tqdm\n",
    "\n",
    "    def _wraper(x):\n",
    "        i, input = x\n",
    "        return {i: fn(input)}\n",
    "\n",
    "    array_inputs = [(i, _) for i, _ in enumerate(array_inputs)]\n",
    "    if verbose:\n",
    "        progress_bar = tqdm(total=len(array_inputs))\n",
    "    outputs = {}\n",
    "    with ThreadPoolExecutor(max_workers=max_workers) as executor:\n",
    "        for i, result in enumerate(executor.map(_wraper, array_inputs)):\n",
    "            outputs.update(result)\n",
    "            if verbose:# and i%pbar_iterval==0:\n",
    "                progress_bar.update()\n",
    "    if verbose:\n",
    "        logger.info('multi_thread')\n",
    "    outputs = list(outputs.values())\n",
    "    return outputs\n"
   ]
  },
  {
   "cell_type": "code",
   "execution_count": null,
   "metadata": {},
   "outputs": [
    {
     "data": {
      "text/markdown": [
       "---\n",
       "\n",
       "#### multi_process\n",
       "\n",
       ">      multi_process (f, inputs, num_workers=10)"
      ],
      "text/plain": [
       "<nbdev.showdoc.BasicMarkdownRenderer>"
      ]
     },
     "execution_count": null,
     "metadata": {},
     "output_type": "execute_result"
    }
   ],
   "source": [
    "#|export\n",
    "def multi_process(f, inputs, num_workers=10):\n",
    "    from multiprocessing import Pool\n",
    "    from tqdm import tqdm\n",
    "    with Pool(10) as p:\n",
    "        it = p.imap(f, inputs)\n",
    "        total = len(inputs)\n",
    "        return list(tqdm(it, total=total))\n"
   ]
  },
  {
   "cell_type": "code",
   "execution_count": null,
   "metadata": {},
   "outputs": [
    {
     "data": {
      "text/markdown": [
       "---\n",
       "\n",
       "#### multi_process\n",
       "\n",
       ">      multi_process (f, inputs, num_workers=10)"
      ],
      "text/plain": [
       "<nbdev.showdoc.BasicMarkdownRenderer>"
      ]
     },
     "execution_count": null,
     "metadata": {},
     "output_type": "execute_result"
    }
   ],
   "source": [
    "#| hide\n",
    "show_doc(multi_process)"
   ]
  },
  {
   "cell_type": "markdown",
   "metadata": {},
   "source": [
    "## Example"
   ]
  },
  {
   "cell_type": "code",
   "execution_count": null,
   "metadata": {},
   "outputs": [
    {
     "name": "stderr",
     "output_type": "stream",
     "text": [
      " 83%|████████████████████████████████████████████████████████████████████████████████████████████████████████████████▌                      | 5/6 [00:01<00:00,  3.55it/s]2022-08-10 16:57:44.682 | INFO     | __main__:multi_thread:25 - multi_thread\n",
      "100%|███████████████████████████████████████████████████████████████████████████████████████████████████████████████████████████████████████| 6/6 [00:01<00:00,  3.99it/s]"
     ]
    },
    {
     "name": "stdout",
     "output_type": "stream",
     "text": [
      "Since start: 1.51 s\n"
     ]
    },
    {
     "name": "stderr",
     "output_type": "stream",
     "text": [
      "\n",
      "100%|█████████████████████████████████████████████████████████████████████████████████████████████████████████████████████████████████████| 10/10 [00:00<00:00, 18.21it/s]\n"
     ]
    },
    {
     "data": {
      "text/plain": [
       "[0, 1, 2, 3, 4, 5, 6, 7, 8, 9]"
      ]
     },
     "execution_count": null,
     "metadata": {},
     "output_type": "execute_result"
    }
   ],
   "source": [
    "show_doc(multi_thread)\n",
    "\n",
    "import time\n",
    "import mmcv\n",
    "\n",
    "def f(i):\n",
    "    time.sleep(0.5)\n",
    "    return i\n",
    "timer = mmcv.Timer()\n",
    "\n",
    "multi_thread(f, range(6), max_workers=2)\n",
    "assert timer.since_start() < 2\n",
    "print(f'Since start: {timer.since_start():0.2f} s')\n",
    "\n",
    "multi_process(f, range(10))"
   ]
  },
  {
   "cell_type": "code",
   "execution_count": null,
   "metadata": {},
   "outputs": [],
   "source": []
  },
  {
   "cell_type": "code",
   "execution_count": null,
   "metadata": {},
   "outputs": [
    {
     "name": "stdout",
     "output_type": "stream",
     "text": [
      "create_modules(nbname='/home/anhvth8/avcv/nbs/04_debug.ipynb', lib_path=Path('/home/anhvth8/avcv/avcv'), procs=[black_format])\n",
      "create_modules(nbname='/home/anhvth8/avcv/nbs/01_process.ipynb', lib_path=Path('/home/anhvth8/avcv/avcv'), procs=[black_format])\n",
      "create_modules(nbname='/home/anhvth8/avcv/nbs/05_coco_dataset.ipynb', lib_path=Path('/home/anhvth8/avcv/avcv'), procs=[black_format])\n",
      "create_modules(nbname='/home/anhvth8/avcv/nbs/all.ipynb', lib_path=Path('/home/anhvth8/avcv/avcv'), procs=[black_format])\n",
      "create_modules(nbname='/home/anhvth8/avcv/nbs/03_utils.ipynb', lib_path=Path('/home/anhvth8/avcv/avcv'), procs=[black_format])\n",
      "create_modules(nbname='/home/anhvth8/avcv/nbs/00_visualize.ipynb', lib_path=Path('/home/anhvth8/avcv/avcv'), procs=[black_format])\n",
      "create_modules(nbname='/home/anhvth8/avcv/nbs/index.ipynb', lib_path=Path('/home/anhvth8/avcv/avcv'), procs=[black_format])\n"
     ]
    }
   ],
   "source": [
    "!nbdev_export"
   ]
  },
  {
   "cell_type": "code",
   "execution_count": null,
   "metadata": {},
   "outputs": [],
   "source": [
    "\n"
   ]
  },
  {
   "cell_type": "code",
   "execution_count": null,
   "metadata": {},
   "outputs": [],
   "source": []
  },
  {
   "cell_type": "code",
   "execution_count": null,
   "metadata": {},
   "outputs": [],
   "source": []
  },
  {
   "cell_type": "code",
   "execution_count": null,
   "metadata": {},
   "outputs": [],
   "source": []
  },
  {
   "cell_type": "code",
   "execution_count": null,
   "metadata": {},
   "outputs": [],
   "source": []
  }
 ],
 "metadata": {
  "kernelspec": {
   "display_name": "Python 3 (ipykernel)",
   "language": "python",
   "name": "python3"
  }
 },
 "nbformat": 4,
 "nbformat_minor": 4
}
