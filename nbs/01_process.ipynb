{
 "cells": [
  {
   "cell_type": "code",
   "execution_count": 2,
   "source": [
    "# default_exp process"
   ],
   "outputs": [],
   "metadata": {}
  },
  {
   "cell_type": "markdown",
   "source": [
    "# Multithreading\n",
    "\n",
    "> API details."
   ],
   "metadata": {}
  },
  {
   "cell_type": "code",
   "execution_count": 3,
   "source": [
    "#hide\n",
    "from nbdev.showdoc import *"
   ],
   "outputs": [],
   "metadata": {}
  },
  {
   "cell_type": "code",
   "execution_count": 4,
   "source": [
    "#export\n",
    "def multi_thread(fn, array_inputs, max_workers=None, desc=\"Multi-thread Pipeline\", unit=\"Samples\", verbose=True):\n",
    "    from concurrent.futures import ThreadPoolExecutor\n",
    "    from functools import partial\n",
    "    from glob import glob\n",
    "    from multiprocessing import Pool\n",
    "    from tqdm import tqdm\n",
    "\n",
    "    def _wraper(x):\n",
    "        i, input = x\n",
    "        return {i: fn(input)}\n",
    "\n",
    "    array_inputs = [(i, _) for i, _ in enumerate(array_inputs)]\n",
    "    if verbose:\n",
    "        with tqdm(total=len(array_inputs), desc=desc, unit=unit) as progress_bar:\n",
    "            outputs = {}\n",
    "            with ThreadPoolExecutor(max_workers=max_workers) as executor:\n",
    "                for result in executor.map(_wraper, array_inputs):\n",
    "                    outputs.update(result)\n",
    "                    progress_bar.update(1)\n",
    "    else:\n",
    "        outputs = {}\n",
    "        with ThreadPoolExecutor(max_workers=max_workers) as executor:\n",
    "            for result in executor.map(_wraper, array_inputs):\n",
    "                outputs.update(result)\n",
    "    if verbose:\n",
    "        print('Finished')\n",
    "    outputs = list(outputs.values())\n",
    "    return outputs"
   ],
   "outputs": [],
   "metadata": {}
  },
  {
   "cell_type": "markdown",
   "source": [
    "## Example"
   ],
   "metadata": {}
  },
  {
   "cell_type": "code",
   "execution_count": 13,
   "source": [
    "from avcv.process import multi_thread\n",
    "show_doc(multi_thread)\n",
    "\n",
    "\n",
    "from glob import glob\n",
    "import mmcv\n",
    "import numpy as np\n",
    "from avcv.process import multi_thread\n",
    "from tqdm import tqdm\n",
    "\n",
    "\n",
    "def f(x):\n",
    "    mmcv.imread(x, channel_order='rgb')\n",
    "    return None\n",
    "\n",
    "paths = glob('../sample-imgs/*')\n",
    "inputs = np.random.choice(paths, 100)\n",
    "fast_imgs = multi_thread(f, inputs)"
   ],
   "outputs": [
    {
     "output_type": "display_data",
     "data": {
      "text/plain": [
       "<IPython.core.display.Markdown object>"
      ],
      "text/markdown": [
       "<h4 id=\"multi_thread\" class=\"doc_header\"><code>multi_thread</code><a href=\"https://github.com/anhvth/avcv/tree/nbdev-convert/avcv/process.py#L6\" class=\"source_link\" style=\"float:right\">[source]</a></h4>\n",
       "\n",
       "> <code>multi_thread</code>(**`fn`**, **`array_inputs`**, **`max_workers`**=*`None`*, **`desc`**=*`'Multi-thread Pipeline'`*, **`unit`**=*`'Samples'`*, **`verbose`**=*`True`*)\n",
       "\n"
      ]
     },
     "metadata": {}
    },
    {
     "output_type": "stream",
     "name": "stderr",
     "text": [
      "Multi-thread Pipeline: 100%|██████████| 100/100 [00:00<00:00, 1384.39Samples/s]"
     ]
    },
    {
     "output_type": "stream",
     "name": "stdout",
     "text": [
      "Finished\n"
     ]
    },
    {
     "output_type": "stream",
     "name": "stderr",
     "text": [
      "\n"
     ]
    }
   ],
   "metadata": {}
  },
  {
   "cell_type": "code",
   "execution_count": null,
   "source": [],
   "outputs": [],
   "metadata": {}
  },
  {
   "cell_type": "code",
   "execution_count": null,
   "source": [],
   "outputs": [],
   "metadata": {}
  },
  {
   "cell_type": "code",
   "execution_count": null,
   "source": [],
   "outputs": [],
   "metadata": {}
  }
 ],
 "metadata": {
  "kernelspec": {
   "display_name": "Python 3",
   "language": "python",
   "name": "python3"
  }
 },
 "nbformat": 4,
 "nbformat_minor": 4
}