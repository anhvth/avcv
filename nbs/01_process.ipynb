{
 "cells": [
  {
   "cell_type": "code",
   "execution_count": null,
   "metadata": {},
   "outputs": [],
   "source": [
    "# default_exp process"
   ]
  },
  {
   "cell_type": "markdown",
   "metadata": {},
   "source": [
    "# Multithreading\n",
    "\n",
    "> API details."
   ]
  },
  {
   "cell_type": "code",
   "execution_count": null,
   "metadata": {},
   "outputs": [],
   "source": [
    "#hide\n",
    "from nbdev.showdoc import *"
   ]
  },
  {
   "cell_type": "code",
   "execution_count": null,
   "metadata": {},
   "outputs": [],
   "source": [
    "#export\n",
    "import mmcv\n",
    "def multi_thread(fn, array_inputs, max_workers=None, desc=\"Multi-thread Pipeline\", unit=\"Samples\", verbose=True):\n",
    "    from concurrent.futures import ThreadPoolExecutor\n",
    "    from functools import partial\n",
    "    from glob import glob\n",
    "    from multiprocessing import Pool\n",
    "    from tqdm import tqdm\n",
    "\n",
    "    def _wraper(x):\n",
    "        i, input = x\n",
    "        return {i: fn(input)}\n",
    "\n",
    "    array_inputs = [(i, _) for i, _ in enumerate(array_inputs)]\n",
    "    if verbose:\n",
    "        progress_bar = mmcv.utils.ProgressBar(len(array_inputs))\n",
    "    outputs = {}\n",
    "    with ThreadPoolExecutor(max_workers=max_workers) as executor:\n",
    "        for result in executor.map(_wraper, array_inputs):\n",
    "            outputs.update(result)\n",
    "            if verbose:\n",
    "                progress_bar.update()\n",
    "    if verbose:\n",
    "        print('Finished')\n",
    "    outputs = list(outputs.values())\n",
    "    return outputs\n"
   ]
  },
  {
   "cell_type": "markdown",
   "metadata": {},
   "source": [
    "## Example"
   ]
  },
  {
   "cell_type": "code",
   "execution_count": null,
   "metadata": {},
   "outputs": [
    {
     "data": {
      "text/markdown": [
       "<h4 id=\"multi_thread\" class=\"doc_header\"><code>multi_thread</code><a href=\"__main__.py#L2\" class=\"source_link\" style=\"float:right\">[source]</a></h4>\n",
       "\n",
       "> <code>multi_thread</code>(**`fn`**, **`array_inputs`**, **`max_workers`**=*`None`*, **`desc`**=*`'Multi-thread Pipeline'`*, **`unit`**=*`'Samples'`*, **`verbose`**=*`True`*)\n",
       "\n"
      ],
      "text/plain": [
       "<IPython.core.display.Markdown object>"
      ]
     },
     "metadata": {},
     "output_type": "display_data"
    }
   ],
   "source": [
    "# from avcv.process import multi_thread\n",
    "show_doc(multi_thread)\n",
    "\n",
    "\n",
    "# from glob import glob\n",
    "# import mmcv\n",
    "# import numpy as np\n",
    "# from avcv.process import multi_thread\n",
    "# from tqdm import tqdm\n",
    "\n",
    "\n",
    "# def f(x):\n",
    "#     mmcv.imread(x, channel_order='rgb')\n",
    "#     return None\n",
    "\n",
    "# paths = glob('../sample-imgs/*')\n",
    "# inputs = np.random.choice(paths, 100)\n",
    "# fast_imgs = multi_thread(f, inputs)"
   ]
  },
  {
   "cell_type": "code",
   "execution_count": null,
   "metadata": {},
   "outputs": [
    {
     "name": "stdout",
     "output_type": "stream",
     "text": [
      "0 []\n",
      "1 ['Sleep for 1 second']\n",
      "2 ['Sleep for 1 second', 'Sleep for 2 second']\n",
      "3 ['Sleep for 1 second', 'Sleep for 2 second']\n",
      "4 ['Sleep for 1 second', 'Sleep for 4 second', 'Sleep for 2 second']\n",
      "5 ['Sleep for 1 second', 'Sleep for 4 second', 'Sleep for 2 second', 'Sleep for 5 second']\n",
      "Total:  6.031975269317627\n"
     ]
    }
   ],
   "source": [
    "from tqdm import tqdm\n",
    "import time\n",
    "import concurrent\n",
    "\n",
    "def dosomething(t):\n",
    "    time.sleep(t)\n",
    "    return f'Sleep for {t} second'\n",
    "\n",
    "start = time.time()\n",
    "\n",
    "inputs = [1,4,2,5]\n",
    "# pbar = tqdm(len(inputs))\n",
    "with concurrent.futures.ProcessPoolExecutor(max_workers=3) as executor:\n",
    "    future_results = []\n",
    "    for inp in inputs:\n",
    "        future_results.append(executor.submit(dosomething, inp))\n",
    "        \n",
    "    results = []\n",
    "    for i in range(6):\n",
    "        time.sleep(1)\n",
    "        results = [f.result() for f in future_results if f.done()]\n",
    "        print(i, results)\n",
    "#     for result in tqdm(future_results):\n",
    "#         print(result.done())\n",
    "#         results.append(result.result())\n",
    "#         print(results[-1], time.time()-start)\n",
    "    \n",
    "finish = time.time()\n",
    "print(\"Total: \", finish-start)"
   ]
  },
  {
   "cell_type": "code",
   "execution_count": null,
   "metadata": {},
   "outputs": [],
   "source": [
    "import torch.multiprocessing as mp\n",
    "import torch\n",
    "import torch.nn as nn\n",
    "class MyModel(nn.Module):\n",
    "    def __init__(self):\n",
    "        super().__init__()\n",
    "        self.param = nn.Parameter(torch.Tensor([0]), requires_grad=False)"
   ]
  },
  {
   "cell_type": "code",
   "execution_count": null,
   "metadata": {},
   "outputs": [],
   "source": [
    "model = MyModel()"
   ]
  },
  {
   "cell_type": "code",
   "execution_count": null,
   "metadata": {},
   "outputs": [
    {
     "data": {
      "text/plain": [
       "Parameter containing:\n",
       "tensor([0.])"
      ]
     },
     "execution_count": null,
     "metadata": {},
     "output_type": "execute_result"
    }
   ],
   "source": [
    "model.param"
   ]
  },
  {
   "cell_type": "code",
   "execution_count": null,
   "metadata": {},
   "outputs": [],
   "source": [
    "train(model)"
   ]
  },
  {
   "cell_type": "code",
   "execution_count": null,
   "metadata": {},
   "outputs": [],
   "source": [
    "\n",
    "\n",
    "def train(model):\n",
    "    model.param += 1\n",
    "\n",
    "num_processes = 4\n",
    "model = MyModel()\n",
    "model.share_memory()\n",
    "processes = []\n",
    "for rank in range(num_processes):\n",
    "    p = mp.Process(target=train, args=(model,))\n",
    "    p.start()\n",
    "    processes.append(p)\n",
    "    \n",
    "for p in processes:\n",
    "    p.join()"
   ]
  },
  {
   "cell_type": "code",
   "execution_count": null,
   "metadata": {},
   "outputs": [
    {
     "data": {
      "text/plain": [
       "Parameter containing:\n",
       "tensor([4.])"
      ]
     },
     "execution_count": null,
     "metadata": {},
     "output_type": "execute_result"
    }
   ],
   "source": [
    "model.param"
   ]
  },
  {
   "cell_type": "code",
   "execution_count": null,
   "metadata": {},
   "outputs": [],
   "source": []
  },
  {
   "cell_type": "code",
   "execution_count": null,
   "metadata": {},
   "outputs": [],
   "source": []
  },
  {
   "cell_type": "code",
   "execution_count": null,
   "metadata": {},
   "outputs": [],
   "source": []
  },
  {
   "cell_type": "code",
   "execution_count": null,
   "metadata": {},
   "outputs": [],
   "source": []
  },
  {
   "cell_type": "code",
   "execution_count": null,
   "metadata": {},
   "outputs": [],
   "source": []
  }
 ],
 "metadata": {
  "kernelspec": {
   "display_name": "Python 3",
   "language": "python",
   "name": "python3"
  }
 },
 "nbformat": 4,
 "nbformat_minor": 4
}
