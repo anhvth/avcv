{
 "cells": [
  {
   "cell_type": "code",
   "execution_count": null,
   "metadata": {},
   "outputs": [],
   "source": [
    "#| default_exp process"
   ]
  },
  {
   "cell_type": "markdown",
   "metadata": {},
   "source": [
    "# Process\n",
    "\n",
    "> API details."
   ]
  },
  {
   "cell_type": "code",
   "execution_count": null,
   "metadata": {},
   "outputs": [],
   "source": [
    "#| hide\n",
    "from nbdev.showdoc import *"
   ]
  },
  {
   "cell_type": "code",
   "execution_count": null,
   "metadata": {},
   "outputs": [],
   "source": [
    "#| export\n",
    "import mmcv\n",
    "from loguru import logger\n",
    "from IPython import display\n",
    "def multi_thread(fn, array_inputs, max_workers=None, \n",
    "                 desc=\"\", unit=\"Samples\", \n",
    "                 verbose=True, pbar_iterval=10):\n",
    "    from concurrent.futures import ThreadPoolExecutor\n",
    "    from functools import partial\n",
    "    from glob import glob\n",
    "    from multiprocessing import Pool\n",
    "    from tqdm import tqdm\n",
    "\n",
    "    def _wraper(x):\n",
    "        i, input = x\n",
    "        return {i: fn(input)}\n",
    "\n",
    "    array_inputs = [(i, _) for i, _ in enumerate(array_inputs)]\n",
    "    if verbose:\n",
    "        logger.info(desc)\n",
    "        progress_bar = mmcv.ProgressBar(len(array_inputs))#tqdm(total=len(array_inputs))\n",
    "    outputs = {}\n",
    "    with ThreadPoolExecutor(max_workers=max_workers) as executor:\n",
    "        for i, result in enumerate(executor.map(_wraper, array_inputs)):\n",
    "            outputs.update(result)\n",
    "            if verbose and i%pbar_iterval==0:\n",
    "                progress_bar.update(pbar_iterval)\n",
    "    if verbose:\n",
    "        logger.info('multi_thread {}, {}', fn.__name__, desc)\n",
    "    outputs = list(outputs.values())\n",
    "    return outputs\n",
    "\n",
    "\n"
   ]
  },
  {
   "cell_type": "code",
   "execution_count": null,
   "metadata": {},
   "outputs": [
    {
     "data": {
      "text/markdown": [
       "---\n",
       "\n",
       "#### multi_thread\n",
       "\n",
       ">      multi_thread (fn, array_inputs, max_workers=None, desc='',\n",
       ">                    unit='Samples', verbose=True, pbar_iterval=10)"
      ],
      "text/plain": [
       "<nbdev.showdoc.BasicMarkdownRenderer>"
      ]
     },
     "execution_count": null,
     "metadata": {},
     "output_type": "execute_result"
    }
   ],
   "source": [
    "#| hide\n",
    "show_doc(multi_thread)"
   ]
  },
  {
   "cell_type": "code",
   "execution_count": null,
   "metadata": {},
   "outputs": [
    {
     "data": {
      "text/markdown": [
       "---\n",
       "\n",
       "#### multi_process\n",
       "\n",
       ">      multi_process (f, inputs, max_workers=8, desc='', unit='Samples',\n",
       ">                     verbose=True, pbar_iterval=10)"
      ],
      "text/plain": [
       "<nbdev.showdoc.BasicMarkdownRenderer>"
      ]
     },
     "execution_count": null,
     "metadata": {},
     "output_type": "execute_result"
    }
   ],
   "source": [
    "#|export\n",
    "def multi_process(f, inputs, max_workers=8, desc='',\n",
    "               unit='Samples', verbose=True, pbar_iterval=10):\n",
    "    from multiprocessing import Pool\n",
    "    from tqdm import tqdm\n",
    "    if verbose:\n",
    "        pbar = mmcv.ProgressBar(len(inputs))\n",
    "        logger.info('Multi processing {} | Num samples: {}', f.__name__, len(inputs))\n",
    "        \n",
    "    with Pool(max_workers) as p:\n",
    "        it = p.imap(f, inputs)\n",
    "        total = len(inputs)\n",
    "        # return list(tqdm(it, total=total))\n",
    "        return_list = []\n",
    "        for i, ret in enumerate(it):\n",
    "            return_list.append(ret)\n",
    "            if i % pbar_iterval == 0:\n",
    "                pbar.update(pbar_iterval)\n",
    "    return return_list\n",
    "\n"
   ]
  },
  {
   "cell_type": "code",
   "execution_count": null,
   "metadata": {},
   "outputs": [
    {
     "data": {
      "text/markdown": [
       "---\n",
       "\n",
       "#### multi_process\n",
       "\n",
       ">      multi_process (f, inputs, max_workers=8, desc='', unit='Samples',\n",
       ">                     verbose=True, pbar_iterval=10)"
      ],
      "text/plain": [
       "<nbdev.showdoc.BasicMarkdownRenderer>"
      ]
     },
     "execution_count": null,
     "metadata": {},
     "output_type": "execute_result"
    }
   ],
   "source": [
    "#|hide\n",
    "show_doc(multi_process)"
   ]
  },
  {
   "cell_type": "code",
   "execution_count": null,
   "metadata": {},
   "outputs": [
    {
     "name": "stdout",
     "output_type": "stream",
     "text": [
      "[                                                  ] 0/20, elapsed: 0s, ETA:"
     ]
    },
    {
     "name": "stderr",
     "output_type": "stream",
     "text": [
      "2022-09-23 06:20:30.262 | INFO     | __main__:multi_process:8 - Multi processing f | Num samples: 20\n"
     ]
    },
    {
     "name": "stdout",
     "output_type": "stream",
     "text": [
      "[>>>>>>>>>>>>>>>>>>>>>>>>>>>>>>>>] 20/20, 36.8 task/s, elapsed: 1s, ETA:     0s"
     ]
    }
   ],
   "source": [
    "#| hide\n",
    "import numpy as np\n",
    "\n",
    "import time\n",
    "import mmcv\n",
    "def f(x):\n",
    "    time.sleep(np.random.uniform(0.1, .5))\n",
    "multi_process(f, range(20), );"
   ]
  },
  {
   "cell_type": "code",
   "execution_count": null,
   "metadata": {},
   "outputs": [],
   "source": []
  },
  {
   "cell_type": "markdown",
   "metadata": {},
   "source": [
    "## Example"
   ]
  },
  {
   "cell_type": "code",
   "execution_count": null,
   "metadata": {},
   "outputs": [
    {
     "name": "stderr",
     "output_type": "stream",
     "text": [
      "2022-09-23 06:20:31.105 | INFO     | __main__:multi_thread:20 - \n"
     ]
    },
    {
     "name": "stdout",
     "output_type": "stream",
     "text": [
      "[>>>>>>>>>>>>>>>>>>>>>>>>>>>>>>>>>>>>>>>>>>>>>>>>>>>>>>>] 10/6, 98.9 task/s, elapsed: 0s, ETA:     0s"
     ]
    },
    {
     "name": "stderr",
     "output_type": "stream",
     "text": [
      "2022-09-23 06:20:31.409 | INFO     | __main__:multi_thread:29 - multi_thread f, \n"
     ]
    },
    {
     "name": "stdout",
     "output_type": "stream",
     "text": [
      "Since start: 0.31 s\n",
      "[                                                  ] 0/10, elapsed: 0s, ETA:"
     ]
    },
    {
     "name": "stderr",
     "output_type": "stream",
     "text": [
      "2022-09-23 06:20:31.411 | INFO     | __main__:multi_process:8 - Multi processing f | Num samples: 10\n"
     ]
    },
    {
     "name": "stdout",
     "output_type": "stream",
     "text": [
      "[>>>>>>>>>>>>>>>>>>>>>>>>>>>>>>>>] 10/10, 63.3 task/s, elapsed: 0s, ETA:     0s"
     ]
    },
    {
     "data": {
      "text/plain": [
       "[0, 1, 2, 3, 4, 5, 6, 7, 8, 9]"
      ]
     },
     "execution_count": null,
     "metadata": {},
     "output_type": "execute_result"
    }
   ],
   "source": [
    "show_doc(multi_thread)\n",
    "\n",
    "\n",
    "def f(i):\n",
    "    time.sleep(0.1)\n",
    "    return i\n",
    "timer = mmcv.Timer()\n",
    "\n",
    "multi_thread(f, range(6), max_workers=2)\n",
    "assert timer.since_start() < 2\n",
    "print(f'Since start: {timer.since_start():0.2f} s')\n",
    "multi_process(f, range(10))"
   ]
  },
  {
   "cell_type": "code",
   "execution_count": null,
   "metadata": {},
   "outputs": [],
   "source": []
  },
  {
   "cell_type": "code",
   "execution_count": null,
   "metadata": {},
   "outputs": [],
   "source": [
    "!nbdev_export"
   ]
  },
  {
   "cell_type": "code",
   "execution_count": null,
   "metadata": {},
   "outputs": [],
   "source": []
  },
  {
   "cell_type": "code",
   "execution_count": null,
   "metadata": {},
   "outputs": [],
   "source": []
  },
  {
   "cell_type": "code",
   "execution_count": null,
   "metadata": {},
   "outputs": [],
   "source": []
  },
  {
   "cell_type": "code",
   "execution_count": null,
   "metadata": {},
   "outputs": [],
   "source": []
  },
  {
   "cell_type": "code",
   "execution_count": null,
   "metadata": {},
   "outputs": [],
   "source": []
  }
 ],
 "metadata": {
  "kernelspec": {
   "display_name": "Python 3 (ipykernel)",
   "language": "python",
   "name": "python3"
  }
 },
 "nbformat": 4,
 "nbformat_minor": 4
}
