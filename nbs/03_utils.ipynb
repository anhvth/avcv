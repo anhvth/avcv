{
 "cells": [
  {
   "cell_type": "code",
   "execution_count": null,
   "source": [
    "# default_exp utils"
   ],
   "outputs": [],
   "metadata": {}
  },
  {
   "cell_type": "markdown",
   "source": [
    "# Utils\n",
    "\n",
    "> API details."
   ],
   "metadata": {}
  },
  {
   "cell_type": "code",
   "execution_count": null,
   "source": [
    "#hide\n",
    "from nbdev.showdoc import *"
   ],
   "outputs": [],
   "metadata": {}
  },
  {
   "cell_type": "code",
   "execution_count": null,
   "source": [
    "#export\n",
    "import os\n",
    "from glob import glob\n",
    "import os\n",
    "import mmcv\n",
    "import cv2\n",
    "from tqdm import tqdm\n",
    "from fastcore.script import call_parse, Param\n",
    "\n",
    "def put_text(image, pos, text, color=(255, 255, 255)):\n",
    "    return cv2.putText(image, text, pos, cv2.FONT_HERSHEY_SIMPLEX, 1.0,\n",
    "                       color, 2)\n",
    "\n",
    "@call_parse\n",
    "def images_to_video(\n",
    "    images:Param(\"Path to the images folder or list of images\"), \n",
    "    out_path:Param(\"Output output video path\", str), \n",
    "    fps:Param(\"Frame per second\", int)=30, \n",
    "    sort:Param(\"Sort images\", bool)=True, \n",
    "    max_num_frame:Param(\"Max num of frame\", int)=10e12, \n",
    "    with_text:Param(\"Add additional index to image when writing vidoe\", bool)=False):\n",
    "    fps = int(fps)\n",
    "\n",
    "    sort = bool(sort)\n",
    "    if isinstance(images, str) and os.path.isdir(images):\n",
    "        from glob import glob\n",
    "        images = glob(os.path.join(images, \"*.jpg\")) + \\\n",
    "            glob(os.path.join(images, \"*.png\"))\n",
    "\n",
    "    imgs = []\n",
    "\n",
    "    def get_num(s):\n",
    "        try:\n",
    "            s = os.path.basename(s)\n",
    "            num = int(''.join([c for c in s if c.isdigit()]))\n",
    "        except:\n",
    "            num = s\n",
    "        return num\n",
    "    global f\n",
    "\n",
    "    def f(img_or_path):\n",
    "        if isinstance(img_or_path, str):\n",
    "            name = os.path.basename(img_or_path)\n",
    "            img = cv2.imread(img_or_path)\n",
    "            assert img is not None, img_or_path\n",
    "            if with_text:\n",
    "                # img = cv2.putText(img, name, )\n",
    "                img = put_text(img, (20, 20), name)\n",
    "        else:\n",
    "            img = img_or_path\n",
    "        return img\n",
    "\n",
    "    if sort and isinstance(images[0], str):\n",
    "        images = list(sorted(images, key=get_num))\n",
    "\n",
    "    max_num_frame = int(max_num_frame)\n",
    "    max_num_frame = min(len(images), max_num_frame)        \n",
    "        \n",
    "    h, w = mmcv.imread(images[0]).shape[:2]\n",
    "    size = (w, h)\n",
    "    out = cv2.VideoWriter(out_path, cv2.VideoWriter_fourcc(*'DIVX'), fps, size)\n",
    "    images = images[:max_num_frame]\n",
    "    pbar = tqdm(range(len(images)))\n",
    "    for i in pbar:\n",
    "        img = f(images[i])\n",
    "        im = cv2.resize(img, size)\n",
    "        out.write(im)\n",
    "\n",
    "    out.release()\n",
    "    print(out_path)\n",
    "\n",
    "def get_paths(directory, input_type='png', sort=True):\n",
    "    \"\"\"\n",
    "        Get a list of input_type paths\n",
    "        params args:\n",
    "        return: a list of paths\n",
    "    \"\"\"\n",
    "    paths = glob(os.path.join(directory, '*.{}'.format(input_type)))\n",
    "    if sort:\n",
    "        paths = list(sorted(paths))\n",
    "    print('Found and sorted {} files {}'.format(len(paths), input_type))\n",
    "    return paths\n",
    "\n"
   ],
   "outputs": [],
   "metadata": {}
  },
  {
   "cell_type": "code",
   "execution_count": null,
   "source": [
    "show_doc(images_to_video)"
   ],
   "outputs": [
    {
     "output_type": "display_data",
     "data": {
      "text/plain": [
       "<IPython.core.display.Markdown object>"
      ],
      "text/markdown": [
       "<h4 id=\"images_to_video\" class=\"doc_header\"><code>images_to_video</code><a href=\"__main__.py#L14\" class=\"source_link\" style=\"float:right\">[source]</a></h4>\n",
       "\n",
       "> <code>images_to_video</code>(**`images`**:\"Path to the images folder or list of images\", **`out_path`**:\"Output output video path\", **`fps`**:\"Frame per second\"=*`30`*, **`sort`**:\"Sort images\"=*`True`*, **`max_num_frame`**:\"Max num of frame\"=*`10000000000000.0`*, **`with_text`**:\"Add additional index to image when writing vidoe\"=*`False`*)\n",
       "\n"
      ]
     },
     "metadata": {}
    }
   ],
   "metadata": {}
  },
  {
   "cell_type": "code",
   "execution_count": 10,
   "source": [
    "!i2v --help"
   ],
   "outputs": [],
   "metadata": {}
  },
  {
   "cell_type": "markdown",
   "source": [
    "Convert a folder of images to video \n",
    "```bash\n",
    "i2v PATH_TO_IMAGE_FOLDER sample.mp4\n",
    "```"
   ],
   "metadata": {}
  },
  {
   "cell_type": "code",
   "execution_count": null,
   "source": [],
   "outputs": [],
   "metadata": {}
  }
 ],
 "metadata": {
  "kernelspec": {
   "display_name": "Python 3",
   "language": "python",
   "name": "python3"
  }
 },
 "nbformat": 4,
 "nbformat_minor": 4
}