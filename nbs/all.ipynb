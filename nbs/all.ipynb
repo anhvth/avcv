{
 "cells": [
  {
   "cell_type": "code",
   "execution_count": 1,
   "id": "d00c85a0-49d9-45ac-a163-4267ebf36eeb",
   "metadata": {},
   "outputs": [],
   "source": [
    "%load_ext autoreload\n",
    "%autoreload 2"
   ]
  },
  {
   "cell_type": "code",
   "execution_count": 2,
   "id": "40f253e0-d0bc-401a-98c0-42a14453f02a",
   "metadata": {},
   "outputs": [],
   "source": [
    "#default_exp all"
   ]
  },
  {
   "cell_type": "code",
   "execution_count": 1,
   "id": "65086cea-61c1-4713-89f9-a50707922c21",
   "metadata": {},
   "outputs": [],
   "source": [
    "#export\n",
    "\n",
    "\n",
    "from avcv.utils import *\n",
    "from avcv.process import *\n",
    "from avcv.visualize import *\n",
    "\n",
    "from avcv.coco import *\n",
    "from avcv.cli import *\n",
    "\n",
    "import cv2, matplotlib.pyplot as plt, mmcv, numpy as np, os, os.path as osp\n",
    "from glob import glob\n",
    "from tqdm import tqdm\n",
    "import pandas as pd\n",
    "from PIL import Image\n",
    "from loguru import logger\n",
    "__all__ = [\n",
    "    'cv2', 'plt', 'Image','mmcv','glob', 'pd', 'tqdm', 'np','os', 'osp', 'logger',\n",
    "]\n",
    "from avcv import utils, process, visualize, coco, cli\n",
    "__all__ += utils.__all__\n",
    "__all__ += visualize.__all__\n",
    "__all__ += cli.__all__\n",
    "__all__ += coco.__all__\n"
   ]
  },
  {
   "cell_type": "code",
   "execution_count": 2,
   "id": "0de437a5-ecd6-4166-a610-d480f2414970",
   "metadata": {},
   "outputs": [
    {
     "name": "stdout",
     "output_type": "stream",
     "text": [
      "Converted 00_visualize.ipynb.\n",
      "Converted 01_process.ipynb.\n",
      "Converted 03_1_memoize.ipynb.\n",
      "Converted 03_utils.ipynb.\n",
      "Converted 04_debug.ipynb.\n",
      "Converted 05_coco_dataset.ipynb.\n",
      "Converted 06_cli.ipynb.\n",
      "Converted all.ipynb.\n",
      "Converted index.ipynb.\n"
     ]
    }
   ],
   "source": [
    "!nbdev_build_lib"
   ]
  },
  {
   "cell_type": "code",
   "execution_count": 4,
   "id": "bc4fda78-fed3-4599-8e26-749ddacba13a",
   "metadata": {},
   "outputs": [
    {
     "name": "stdout",
     "output_type": "stream",
     "text": [
      "CPU times: user 4 µs, sys: 0 ns, total: 4 µs\n",
      "Wall time: 7.87 µs\n"
     ]
    }
   ],
   "source": [
    "%time\n",
    "from avcv.all import *"
   ]
  },
  {
   "cell_type": "code",
   "execution_count": null,
   "id": "129a0b45-a829-4072-aed2-306e1d03b6e9",
   "metadata": {},
   "outputs": [],
   "source": []
  },
  {
   "cell_type": "code",
   "execution_count": null,
   "id": "68bcc296-9528-470e-92a3-f2e428feedaa",
   "metadata": {},
   "outputs": [],
   "source": []
  }
 ],
 "metadata": {
  "kernelspec": {
   "display_name": "Python 3 (ipykernel)",
   "language": "python",
   "name": "python3"
  },
  "language_info": {
   "codemirror_mode": {
    "name": "ipython",
    "version": 3
   },
   "file_extension": ".py",
   "mimetype": "text/x-python",
   "name": "python",
   "nbconvert_exporter": "python",
   "pygments_lexer": "ipython3",
   "version": "3.8.11"
  }
 },
 "nbformat": 4,
 "nbformat_minor": 5
}
