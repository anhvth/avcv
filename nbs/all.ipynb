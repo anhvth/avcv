{
 "cells": [
  {
   "cell_type": "code",
   "execution_count": null,
   "id": "d00c85a0-49d9-45ac-a163-4267ebf36eeb",
   "metadata": {},
   "outputs": [],
   "source": [
    "%load_ext autoreload\n",
    "%autoreload 2"
   ]
  },
  {
   "cell_type": "code",
   "execution_count": null,
   "id": "40f253e0-d0bc-401a-98c0-42a14453f02a",
   "metadata": {},
   "outputs": [],
   "source": [
    "#| default_exp all"
   ]
  },
  {
   "cell_type": "code",
   "execution_count": null,
   "id": "65086cea-61c1-4713-89f9-a50707922c21",
   "metadata": {},
   "outputs": [],
   "source": [
    "#| export\n",
    "\n",
    "\n",
    "from avcv.utils import *\n",
    "from avcv.process import *\n",
    "from avcv.visualize import *\n",
    "\n",
    "from avcv.coco import *\n",
    "from avcv.cli import *\n",
    "from avcv.dist_utils import *\n",
    "\n",
    "import cv2, matplotlib.pyplot as plt, mmcv, numpy as np, os, os.path as osp\n",
    "from glob import glob\n",
    "from tqdm import tqdm\n",
    "import pandas as pd\n",
    "from PIL import Image\n",
    "from loguru import logger\n",
    "__all__ = [\n",
    "    'cv2', 'plt', 'Image','mmcv','glob', 'pd', 'tqdm', 'np','os', 'osp', 'logger',\n",
    "]\n",
    "from avcv import utils, process, visualize, coco, cli, dist_utils\n",
    "__all__ += utils.__all__\n",
    "__all__ += visualize.__all__\n",
    "__all__ += cli.__all__\n",
    "__all__ += coco.__all__\n",
    "__all__ += process.__all__\n",
    "__all__ += dist_utils.__all__\n"
   ]
  },
  {
   "cell_type": "code",
   "execution_count": null,
   "id": "bc4fda78-fed3-4599-8e26-749ddacba13a",
   "metadata": {},
   "outputs": [
    {
     "name": "stdout",
     "output_type": "stream",
     "text": [
      "CPU times: user 2.28 s, sys: 430 ms, total: 2.71 s\n",
      "Wall time: 2.89 s\n"
     ]
    }
   ],
   "source": [
    "%%time\n",
    "\n",
    "from avcv.all import *"
   ]
  },
  {
   "cell_type": "code",
   "execution_count": null,
   "id": "90e6a976-166f-428d-91e4-253680d61eda",
   "metadata": {},
   "outputs": [],
   "source": []
  }
 ],
 "metadata": {
  "kernelspec": {
   "display_name": "Python 3 (ipykernel)",
   "language": "python",
   "name": "python3"
  }
 },
 "nbformat": 4,
 "nbformat_minor": 5
}
