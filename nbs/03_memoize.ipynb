{
 "cells": [
  {
   "cell_type": "code",
   "execution_count": 3,
   "metadata": {},
   "outputs": [],
   "source": [
    "#| default_exp utils"
   ]
  },
  {
   "cell_type": "code",
   "execution_count": 2,
   "metadata": {},
   "outputs": [],
   "source": [
    "#| hide\n",
    "from nbdev.showdoc import *"
   ]
  },
  {
   "cell_type": "code",
   "execution_count": 40,
   "metadata": {},
   "outputs": [],
   "source": [
    "#| export\n",
    "from loguru import logger\n",
    "from functools import wraps\n",
    "import mmcv\n",
    "import inspect\n",
    "ICACHE = dict()\n",
    "#export\n",
    "import xxhash\n",
    "import pickle\n",
    "import mmcv\n",
    "\n",
    "def identify(x):\n",
    "    '''Return an hex digest of the input'''\n",
    "    return xxhash.xxh64(pickle.dumps(x), seed=0).hexdigest()\n",
    "VERBOSE = False\n",
    "CACHE_DIR = '/tmp/avcv/'\n",
    "def memoize(func):\n",
    "    import os\n",
    "    import pickle\n",
    "    from functools import wraps\n",
    "    import xxhash\n",
    "    '''Cache result of function call on disk\n",
    "    Support multiple positional and keyword arguments'''\n",
    "    @wraps(func)\n",
    "    def memoized_func(*args, **kwargs):\n",
    "        try:\n",
    "            import inspect\n",
    "            if 'cache_key' in kwargs:\n",
    "                cache_key = kwargs['cache_key']\n",
    "                \n",
    "                func_id = identify(kwargs['cache_key'])\n",
    "                if VERBOSE:\n",
    "                    logger.info(f'Use {cache_key=}->{func_id=}')\n",
    "            else:\n",
    "                func_id = identify((inspect.getsource(func), args, kwargs))\n",
    "            cache_path = os.path.join(CACHE_DIR, 'funcs', func.__name__+'/'+func_id)\n",
    "            mmcv.mkdir_or_exist(os.path.dirname(cache_path))\n",
    "\n",
    "            if (os.path.exists(cache_path) and\n",
    "                    not func.__name__ in os.environ and\n",
    "                    not 'BUST_CACHE' in os.environ):\n",
    "                result = pickle.load(open(cache_path, 'rb'))\n",
    "            else:\n",
    "                result = func(*args, **kwargs)\n",
    "                pickle.dump(result, open(cache_path, 'wb'))\n",
    "            return result\n",
    "        except (KeyError, AttributeError, TypeError, Exception) as e:\n",
    "            logger.warning(f'Exception: {e}, use default function call')\n",
    "            return func(*args, **kwargs)\n",
    "    return memoized_func\n",
    "\n",
    "def imemoize(func):\n",
    "    \"\"\"\n",
    "        Memoize a function into memory, the function recaculate only \n",
    "        change when its belonging arguments change\n",
    "    \"\"\"\n",
    "    @wraps(func)\n",
    "    def _f(*args, **kwargs):\n",
    "\n",
    "        timer = mmcv.Timer()\n",
    "\n",
    "        ident_name = identify((inspect.getsource(func), args, kwargs))\n",
    "        # if not ident_name in ICACHE:\n",
    "        try:\n",
    "            result = ICACHE[ident_name]\n",
    "        except:\n",
    "            result = func(*args, **kwargs)\n",
    "            ICACHE[ident_name] = result\n",
    "        return result\n",
    "    return _f"
   ]
  },
  {
   "cell_type": "code",
   "execution_count": 48,
   "metadata": {},
   "outputs": [],
   "source": [
    "@memoize\n",
    "def example_function1(x, cache_key=None):\n",
    "    print('Heelo')\n",
    "    return 1\n",
    "x = example_function1(0, cache_key='2')"
   ]
  },
  {
   "cell_type": "markdown",
   "metadata": {},
   "source": [
    "# BUILD"
   ]
  },
  {
   "cell_type": "code",
   "execution_count": 49,
   "metadata": {},
   "outputs": [
    {
     "name": "stdout",
     "output_type": "stream",
     "text": [
      "Converted 00_visualize.ipynb.\n",
      "Converted 01_process.ipynb.\n",
      "Converted 03_memoize.ipynb.\n",
      "Converted 03_utils.ipynb.\n",
      "Converted 04_debug.ipynb.\n",
      "Converted 05_coco_dataset.ipynb.\n",
      "Converted 06_cli.ipynb.\n",
      "Converted 07_dist_utils.ipynb.\n",
      "Converted all.ipynb.\n",
      "Converted index.ipynb.\n"
     ]
    }
   ],
   "source": [
    "!nbdev_build_lib"
   ]
  },
  {
   "cell_type": "code",
   "execution_count": null,
   "metadata": {},
   "outputs": [],
   "source": []
  }
 ],
 "metadata": {
  "kernelspec": {
   "display_name": "Python 3 (ipykernel)",
   "language": "python",
   "name": "python3"
  },
  "language_info": {
   "codemirror_mode": {
    "name": "ipython",
    "version": 3
   },
   "file_extension": ".py",
   "mimetype": "text/x-python",
   "name": "python",
   "nbconvert_exporter": "python",
   "pygments_lexer": "ipython3",
   "version": "3.8.11"
  }
 },
 "nbformat": 4,
 "nbformat_minor": 4
}
