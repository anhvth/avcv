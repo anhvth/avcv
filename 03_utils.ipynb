{
 "cells": [
  {
   "cell_type": "code",
   "execution_count": null,
   "metadata": {},
   "outputs": [],
   "source": [
    "# default_exp utils"
   ]
  },
  {
   "cell_type": "markdown",
   "metadata": {},
   "source": [
    "# Utils\n",
    "\n",
    "> API details."
   ]
  },
  {
   "cell_type": "code",
   "execution_count": null,
   "metadata": {},
   "outputs": [],
   "source": [
    "#hide\n",
    "from nbdev.showdoc import *"
   ]
  },
  {
   "cell_type": "code",
   "execution_count": null,
   "metadata": {},
   "outputs": [],
   "source": [
    "#export\n",
    "import os\n",
    "from glob import glob\n",
    "import os\n",
    "import mmcv\n",
    "import cv2\n",
    "from tqdm import tqdm\n",
    "from fastcore.script import call_parse, Param\n",
    "\n",
    "@call_parse\n",
    "def images_to_video(\n",
    "    images:Param(\"Path to the images folder or list of images\", any), \n",
    "    out_path:Param(\"Output output video path\", str), \n",
    "    fps=30, sort=True, max_num_frame=10e12, with_text=False):\n",
    "    fps = int(fps)\n",
    "\n",
    "    sort = bool(sort)\n",
    "    if isinstance(images, str) and os.path.isdir(images):\n",
    "        from glob import glob\n",
    "        images = glob(os.path.join(images, \"*.jpg\")) + \\\n",
    "            glob(os.path.join(images, \"*.png\"))\n",
    "\n",
    "    imgs = []\n",
    "\n",
    "    def get_num(s):\n",
    "        try:\n",
    "            s = os.path.basename(s)\n",
    "            num = int(''.join([c for c in s if c.isdigit()]))\n",
    "        except:\n",
    "            num = s\n",
    "        return num\n",
    "    global f\n",
    "\n",
    "    def f(img_or_path):\n",
    "        if isinstance(img_or_path, str):\n",
    "            name = os.path.basename(img_or_path)\n",
    "            img = cv2.imread(img_or_path)\n",
    "            assert img is not None, img_or_path\n",
    "            if with_text:\n",
    "                img = put_text(img, (20, 20), name)\n",
    "        else:\n",
    "            img = img_or_path\n",
    "        return img\n",
    "\n",
    "    if sort and isinstance(images[0], str):\n",
    "        images = list(sorted(images, key=get_num))\n",
    "\n",
    "    max_num_frame = int(max_num_frame)\n",
    "    max_num_frame = min(len(images), max_num_frame)        \n",
    "        \n",
    "    h, w = mmcv.imread(images[0]).shape[:2]\n",
    "    size = (w, h)\n",
    "    out = cv2.VideoWriter(out_path, cv2.VideoWriter_fourcc(*'DIVX'), fps, size)\n",
    "    images = images[:max_num_frame]\n",
    "    pbar = tqdm(range(len(images)))\n",
    "    for i in pbar:\n",
    "        img = f(images[i])\n",
    "        im = cv2.resize(img, size)\n",
    "        out.write(im)\n",
    "\n",
    "    out.release()\n",
    "    print(out_path)\n",
    "\n",
    "def get_paths(directory, input_type='png', sort=True):\n",
    "    \"\"\"\n",
    "        Get a list of input_type paths\n",
    "        params args:\n",
    "        return: a list of paths\n",
    "    \"\"\"\n",
    "    paths = glob(os.path.join(directory, '*.{}'.format(input_type)))\n",
    "    if sort:\n",
    "        paths = list(sorted(paths))\n",
    "    print('Found and sorted {} files {}'.format(len(paths), input_type))\n",
    "    return paths\n",
    "\n"
   ]
  },
  {
   "cell_type": "code",
   "execution_count": null,
   "metadata": {},
   "outputs": [
    {
     "data": {
      "text/markdown": [
       "<h4 id=\"images_to_video\" class=\"doc_header\"><code>images_to_video</code><a href=\"__main__.py#L10\" class=\"source_link\" style=\"float:right\">[source]</a></h4>\n",
       "\n",
       "> <code>images_to_video</code>(**`images`**:\"Path to the images folder or list of images\", **`out_path`**:\"Output output video path\", **`fps`**=*`30`*, **`sort`**=*`True`*, **`max_num_frame`**=*`10000000000000.0`*, **`with_text`**=*`False`*)\n",
       "\n"
      ],
      "text/plain": [
       "<IPython.core.display.Markdown object>"
      ]
     },
     "metadata": {},
     "output_type": "display_data"
    }
   ],
   "source": [
    "show_doc(images_to_video)"
   ]
  },
  {
   "cell_type": "code",
   "execution_count": null,
   "metadata": {},
   "outputs": [],
   "source": [
    "#hide\n",
    "# from nbdev.export import export_names; export_names()"
   ]
  },
  {
   "cell_type": "code",
   "execution_count": null,
   "metadata": {},
   "outputs": [
    {
     "name": "stderr",
     "output_type": "stream",
     "text": [
      "100%|██████████| 100/100 [00:03<00:00, 27.02it/s]"
     ]
    },
    {
     "name": "stdout",
     "output_type": "stream",
     "text": [
      "test.mp4\n"
     ]
    },
    {
     "name": "stderr",
     "output_type": "stream",
     "text": [
      "\n"
     ]
    }
   ],
   "source": [
    "#hide\n",
    "images_to_video('/data/synthetic/SHARE_SVA_DATASET/val/000/frames/', 'test.mp4', max_num_frame=100)"
   ]
  },
  {
   "cell_type": "code",
   "execution_count": null,
   "metadata": {},
   "outputs": [],
   "source": []
  },
  {
   "cell_type": "code",
   "execution_count": null,
   "metadata": {},
   "outputs": [],
   "source": []
  },
  {
   "cell_type": "code",
   "execution_count": null,
   "metadata": {},
   "outputs": [],
   "source": []
  },
  {
   "cell_type": "code",
   "execution_count": null,
   "metadata": {},
   "outputs": [],
   "source": []
  }
 ],
 "metadata": {
  "kernelspec": {
   "display_name": "Python 3",
   "language": "python",
   "name": "python3"
  }
 },
 "nbformat": 4,
 "nbformat_minor": 4
}
