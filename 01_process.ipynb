{
 "cells": [
  {
   "cell_type": "code",
   "execution_count": null,
   "metadata": {},
   "outputs": [],
   "source": [
    "# default_exp process"
   ]
  },
  {
   "cell_type": "markdown",
   "metadata": {},
   "source": [
    "# Multithreading\n",
    "\n",
    "> API details."
   ]
  },
  {
   "cell_type": "code",
   "execution_count": null,
   "metadata": {},
   "outputs": [],
   "source": [
    "#hide\n",
    "from nbdev.showdoc import *"
   ]
  },
  {
   "cell_type": "code",
   "execution_count": null,
   "metadata": {},
   "outputs": [],
   "source": [
    "#export\n",
    "def multi_thread(fn, array_inputs, max_workers=None, desc=\"Multi-thread Pipeline\", unit=\"Samples\", verbose=True):\n",
    "    from concurrent.futures import ThreadPoolExecutor\n",
    "    from functools import partial\n",
    "    from glob import glob\n",
    "    from multiprocessing import Pool\n",
    "    from tqdm import tqdm\n",
    "\n",
    "    def _wraper(x):\n",
    "        i, input = x\n",
    "        return {i: fn(input)}\n",
    "\n",
    "    array_inputs = [(i, _) for i, _ in enumerate(array_inputs)]\n",
    "    if verbose:\n",
    "        with tqdm(total=len(array_inputs), desc=desc, unit=unit) as progress_bar:\n",
    "            outputs = {}\n",
    "            with ThreadPoolExecutor(max_workers=max_workers) as executor:\n",
    "                for result in executor.map(_wraper, array_inputs):\n",
    "                    outputs.update(result)\n",
    "                    progress_bar.update(1)\n",
    "    else:\n",
    "        outputs = {}\n",
    "        with ThreadPoolExecutor(max_workers=max_workers) as executor:\n",
    "            for result in executor.map(_wraper, array_inputs):\n",
    "                outputs.update(result)\n",
    "    if verbose:\n",
    "        print('Finished')\n",
    "    outputs = list(outputs.values())\n",
    "    return outputs"
   ]
  },
  {
   "cell_type": "code",
   "execution_count": null,
   "metadata": {},
   "outputs": [
    {
     "data": {
      "text/markdown": [
       "<h4 id=\"multi_thread\" class=\"doc_header\"><code>multi_thread</code><a href=\"https://github.com/anhvth/avcv/tree/nbdev-convert/avcv/process.py#L6\" class=\"source_link\" style=\"float:right\">[source]</a></h4>\n",
       "\n",
       "> <code>multi_thread</code>(**`fn`**, **`array_inputs`**, **`max_workers`**=*`None`*, **`desc`**=*`'Multi-thread Pipeline'`*, **`unit`**=*`'Samples'`*, **`verbose`**=*`True`*)\n",
       "\n"
      ],
      "text/plain": [
       "<IPython.core.display.Markdown object>"
      ]
     },
     "metadata": {},
     "output_type": "display_data"
    },
    {
     "name": "stderr",
     "output_type": "stream",
     "text": [
      "Multi-thread Pipeline: 100%|██████████| 100/100 [00:00<00:00, 298.13Samples/s]"
     ]
    },
    {
     "name": "stdout",
     "output_type": "stream",
     "text": [
      "Finished\n"
     ]
    },
    {
     "name": "stderr",
     "output_type": "stream",
     "text": [
      "\n"
     ]
    }
   ],
   "source": [
    "from avcv.process import multi_thread\n",
    "show_doc(multi_thread)\n",
    "\n",
    "\n",
    "from glob import glob\n",
    "import mmcv\n",
    "import numpy as np\n",
    "from avcv.process import multi_thread\n",
    "from tqdm import tqdm\n",
    "\n",
    "paths = glob('/data/synthetic/SHARE_SVA_DATASET/val/000/frames/*')\n",
    "def f(x):\n",
    "    mmcv.imread(x, channel_order='rgb')\n",
    "    return None\n",
    "\n",
    "inputs = np.random.choice(paths, 100)\n",
    "fast_imgs = multi_thread(f, inputs)"
   ]
  },
  {
   "cell_type": "markdown",
   "metadata": {},
   "source": [
    "!nbdev_build_lib"
   ]
  },
  {
   "cell_type": "code",
   "execution_count": null,
   "metadata": {},
   "outputs": [],
   "source": []
  },
  {
   "cell_type": "code",
   "execution_count": null,
   "metadata": {},
   "outputs": [],
   "source": []
  },
  {
   "cell_type": "code",
   "execution_count": null,
   "metadata": {},
   "outputs": [],
   "source": []
  },
  {
   "cell_type": "code",
   "execution_count": null,
   "metadata": {},
   "outputs": [],
   "source": []
  },
  {
   "cell_type": "code",
   "execution_count": null,
   "metadata": {},
   "outputs": [],
   "source": []
  },
  {
   "cell_type": "code",
   "execution_count": null,
   "metadata": {},
   "outputs": [],
   "source": []
  },
  {
   "cell_type": "code",
   "execution_count": null,
   "metadata": {},
   "outputs": [],
   "source": []
  }
 ],
 "metadata": {
  "kernelspec": {
   "display_name": "Python 3",
   "language": "python",
   "name": "python3"
  }
 },
 "nbformat": 4,
 "nbformat_minor": 4
}
